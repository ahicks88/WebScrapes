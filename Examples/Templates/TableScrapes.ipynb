{
 "cells": [
  {
   "cell_type": "code",
   "execution_count": null,
   "metadata": {},
   "outputs": [],
   "source": [
    "import requests\n",
    "import pandas as pd\n",
    "\n",
    "data = {\n",
    "    \"series_id\": \"CIU2010000000000A\",\n",
    "    \"survey\": \"bls\",\n",
    "    \"format\": \"\",\n",
    "    \"html_tables\": \"\",\n",
    "    \"delimiter\": \"\",\n",
    "    \"catalog\": \"\",\n",
    "    \"print_line_length\": \"\",\n",
    "    \"lines_per_page\": \"\",\n",
    "    \"row_stub_key\": \"\",\n",
    "    \"year\": \"\",\n",
    "    \"date\": \"\",\n",
    "    \"net_change_start\": \"\",\n",
    "    \"net_change_end\": \"\",\n",
    "    \"percent_change_start\": \"\",\n",
    "    \"percent_change_end\": \"\"\n",
    "}\n",
    "\n",
    "\n",
    "def main(url):\n",
    "    r = requests.post(url, data=data)\n",
    "    df = pd.read_html(r.content)[1]\n",
    "    print(df)\n",
    "\n",
    "\n",
    "main(\"https://data.bls.gov/cgi-bin/surveymost\")"
   ]
  }
 ],
 "metadata": {
  "language_info": {
   "codemirror_mode": {
    "name": "ipython",
    "version": 3
   },
   "file_extension": ".py",
   "mimetype": "text/x-python",
   "name": "python",
   "nbconvert_exporter": "python",
   "pygments_lexer": "ipython3",
   "version": "3.7.6-final"
  },
  "orig_nbformat": 2,
  "kernelspec": {
   "name": "python37464bitandrewhicksvirtualenvb486e185a75b458ea1d520c1feb759ee",
   "display_name": "Python 3.7.4 64-bit ('Andrew Hicks': virtualenv)"
  }
 },
 "nbformat": 4,
 "nbformat_minor": 2
}