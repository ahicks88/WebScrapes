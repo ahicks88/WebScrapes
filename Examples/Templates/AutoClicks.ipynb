{
 "cells": [
  {
   "cell_type": "code",
   "execution_count": 1,
   "metadata": {},
   "outputs": [],
   "source": [
    "    from selenium import webdriver\n",
    "    url = \"https://data.bls.gov/cgi-bin/surveymost?bls\"\n",
    "   \n",
    "   # Open up a Chrome browser and navigate to web page.\n",
    "    options = webdriver.ChromeOptions()\n",
    "    options.add_argument('--ignore-certificate-errors')\n",
    "    options.add_argument('--incognito')\n",
    "    # options.add_argument('--headless') # will run without opening browser.\n",
    "    driver = webdriver.Chrome(r\"C:\\Users\\Andrew Hicks\\Documents\\Analytics\\GitHub\\WebScrapes\\WebScrapes\\chromedriver\", chrome_options=options)\n",
    "    driver = webdriver.Chrome(r\"C:\\Users\\Andrew Hicks\\Documents\\Analytics\\GitHub\\WebScrapes\\WebScrapes\\chromedriver\")\n",
    "    driver.get(url)\n",
    "\n",
    "    driver.find_element_by_xpath(\"//input[@type='checkbox' and @value = 'CIU1010000000000A']\").click()\n",
    "    driver.find_element_by_xpath(\"//input[@type='Submit' and @value = 'Retrieve data']\").click()"
   ]
  }
 ],
 "metadata": {
  "language_info": {
   "codemirror_mode": {
    "name": "ipython",
    "version": 3
   },
   "file_extension": ".py",
   "mimetype": "text/x-python",
   "name": "python",
   "nbconvert_exporter": "python",
   "pygments_lexer": "ipython3",
   "version": "3.7.6-final"
  },
  "orig_nbformat": 2,
  "kernelspec": {
   "name": "python37464bitandrewhicksvirtualenvb486e185a75b458ea1d520c1feb759ee",
   "display_name": "Python 3.7.4 64-bit ('Andrew Hicks': virtualenv)"
  }
 },
 "nbformat": 4,
 "nbformat_minor": 2
}