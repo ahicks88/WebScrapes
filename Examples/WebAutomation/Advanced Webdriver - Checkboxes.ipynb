{
 "cells": [
  {
   "cell_type": "code",
   "execution_count": 12,
   "metadata": {},
   "outputs": [
    {
     "output_type": "stream",
     "name": "stdout",
     "text": "False\nCheckbox is already set to: True\nFalse\nFalse\nCheckbox is already set to: True\nFalse\nFalse\nCheckbox is already set to: True\nFalse\nFalse\nCheckbox is already set to: True\nFalse\n"
    }
   ],
   "source": [
    "# YouTube https://youtu.be/hqQ5Y65qZeQ\n",
    "\n",
    "from selenium import webdriver\n",
    "\n",
    "class Checkbox:\n",
    "    \n",
    "    def __init__(self, driver, checkbox_id):\n",
    "\n",
    "        self.checkbox_id = checkbox_id\n",
    "        self.driver = driver\n",
    "        self.checkbox = driver.find_element_by_id(checkbox_id)\n",
    "    \n",
    "    def is_enabled(self, use_js=True):\n",
    "\n",
    "        if use_js:\n",
    "            return self.driver.execute_script(\"return document.getElementById('{}').checked\".format(self.checkbox_id))\n",
    "        return \"on\" in self.checkbox.get_attribute(\"value\")\n",
    "\n",
    "    def enabled(self, enable):\n",
    "        if (enable and not self.is_enabled()) or (not enable and self.is_enabled()):\n",
    "            self.checkbox.click()\n",
    "        else:\n",
    "            print(\"Checkbox is already set to: {}\".format(enable))\n",
    "        return self\n",
    "\n",
    "if \"__main__\" == __name__:\n",
    "\n",
    "    url = \"https://www.trulia.com/for_rent/Milpitas,CA\"\n",
    "    driver = webdriver.Chrome(r\"C:\\Users\\Andrew Hicks\\Documents\\Analytics\\GitHub\\WebScrapes\\WebScrapes\\chromedriver\")\n",
    "    driver.get(url)\n",
    "\n",
    "    driver.find_element_by_xpath('//*[@id=\"main-content\"]/div[1]/div/ul/li[4]/button/div').click()\n",
    "\n",
    "    appartment = Checkbox(driver, \"apartment_condo_loft\")\n",
    "    room = Checkbox(driver, \"room_for_rent\")\n",
    "    single = Checkbox(driver, \"single_family_home\")\n",
    "    townhome = Checkbox(driver, \"townhouse\")\n",
    "\n",
    "    checkboxes = [appartment, room, single, townhome]\n",
    "\n",
    "    for checkbox in checkboxes:\n",
    "        \n",
    "        print(checkbox.is_enabled())\n",
    "        checkbox.enabled(True)\n",
    "        checkbox.enabled(True)\n",
    "        checkbox.enabled(False)\n",
    "        print(checkbox.is_enabled())"
   ]
  }
 ],
 "metadata": {
  "language_info": {
   "codemirror_mode": {
    "name": "ipython",
    "version": 3
   },
   "file_extension": ".py",
   "mimetype": "text/x-python",
   "name": "python",
   "nbconvert_exporter": "python",
   "pygments_lexer": "ipython3",
   "version": "3.7.6-final"
  },
  "orig_nbformat": 2,
  "kernelspec": {
   "name": "python37464bitandrewhicksvirtualenvb486e185a75b458ea1d520c1feb759ee",
   "display_name": "Python 3.7.4 64-bit ('Andrew Hicks': virtualenv)"
  }
 },
 "nbformat": 4,
 "nbformat_minor": 2
}