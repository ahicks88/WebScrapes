{
 "cells": [
  {
   "cell_type": "code",
   "execution_count": 2,
   "metadata": {},
   "outputs": [],
   "source": [
    "#YouTube = https://youtu.be/GJjMjB3rkJM\n",
    "\n",
    "from selenium import webdriver\n",
    "\n",
    "url = \"http://www.seleniumhq.org/\"\n",
    "\n",
    "# Open up a Chrome browser and navigate to web page.\n",
    "options = webdriver.ChromeOptions()\n",
    "options.add_argument('--ignore-certificate-errors')\n",
    "options.add_argument('--incognito')\n",
    "# options.add_argument('--headless') # will run without opening browser.\n",
    "driver = webdriver.Chrome(r\"C:\\Users\\Andrew Hicks\\Documents\\Analytics\\GitHub\\WebScrapes\\WebScrapes\\chromedriver\", chrome_options=options)\n",
    "driver.get(url)\n",
    "\n",
    "# Finding elements on the browser:\n",
    "elem = driver.find_element_by_link_text('Downloads')\n",
    "# elem.text # get the object in text\n",
    "# elem.get_attribute('href') # get the link of the object\n",
    "elem.click() # clicks on the object"
   ]
  }
 ],
 "metadata": {
  "language_info": {
   "codemirror_mode": {
    "name": "ipython",
    "version": 3
   },
   "file_extension": ".py",
   "mimetype": "text/x-python",
   "name": "python",
   "nbconvert_exporter": "python",
   "pygments_lexer": "ipython3",
   "version": "3.7.6-final"
  },
  "orig_nbformat": 2,
  "kernelspec": {
   "name": "python37464bitandrewhicksvirtualenvb486e185a75b458ea1d520c1feb759ee",
   "display_name": "Python 3.7.4 64-bit ('Andrew Hicks': virtualenv)"
  }
 },
 "nbformat": 4,
 "nbformat_minor": 2
}