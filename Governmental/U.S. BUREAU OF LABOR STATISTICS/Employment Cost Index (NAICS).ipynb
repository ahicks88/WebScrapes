{
 "cells": [
  {
   "cell_type": "code",
   "execution_count": 1,
   "metadata": {},
   "outputs": [],
   "source": [
    "import cx_Oracle\n",
    "pswd = input(\"Enter your password: \")\n",
    "dsn_tns = cx_Oracle.makedsn('10.0.0.210', '1521', service_name='XE')\n",
    "conn = cx_Oracle.connect(user=r'ahicks88', password=pswd, dsn=dsn_tns) \n",
    "c = conn.cursor()"
   ]
  },
  {
   "cell_type": "code",
   "execution_count": null,
   "metadata": {},
   "outputs": [],
   "source": [
    "from bs4 import BeautifulSoup\n",
    "from urllib.request import urlopen\n",
    "import pandas as pd\n",
    "import numpy as np\n",
    "\n",
    "# Team Stats and Rankings\n",
    "url = r\"https://data.bls.gov/cgi-bin/surveymost\"\n",
    "table_data = BeautifulSoup(urlopen(url).read(), \"lxml\").find_all(\"table\", class_='regular-data')\n",
    "table1 = table_data[0] \n",
    "\n",
    "# header = table1.find_all(scope=\"col\")\n",
    "# table_head = []\n",
    "# for row in header:\n",
    "#     row_values = [value.string for value in header]  \n",
    "#     table_head.append(row_values)\n",
    "# table_head = table_head[0]\n",
    "\n",
    "# rows = table1.find_all(\"td\")\n",
    "# table_data = []\n",
    "# for row in rows:\n",
    "#     row_values = [value.string for value in rows]  \n",
    "#     table_data.append(row_values)\n",
    "# table_data = table_data[1]\n",
    "\n",
    "# head = table_head[0:30]\n",
    "# row1 = table_data[0:30]\n",
    "# row2 = table_data[30:60]\n",
    "# row3 = table_data[60:90]\n",
    "# row4 = table_data[90:120]\n",
    "\n",
    "# df2 = pd.DataFrame([row1,row2,row3,row4])\n",
    "# df2.columns =[head] \n",
    "# df2"
   ]
  },
  {
   "cell_type": "code",
   "execution_count": null,
   "metadata": {},
   "outputs": [],
   "source": [
    "head = [elm + str(index) for index, elm in enumerate(head)]\n",
    "\n",
    "header = \"\"\n",
    "for num in head:\n",
    "    head_item = \"{} DECIMAL (18, 2), \".format(num)\n",
    "    if head_item[0].isdigit() == True:\n",
    "        header += \"a_\" + head_item\n",
    "    else:\n",
    "        header += head_item\n",
    "header   \n",
    "\n",
    "# initializing bad_chars_list \n",
    "bad_chars = [';', ':', '!', \"*\",\"/\",\"#\",\"%\"] \n",
    "\n",
    "# remove bad_chars  \n",
    "for i in bad_chars : \n",
    "    header = header.replace(i, '') \n",
    "header = header[:-2]\n",
    "header"
   ]
  },
  {
   "cell_type": "code",
   "execution_count": null,
   "metadata": {},
   "outputs": [],
   "source": [
    "c.execute(\"CREATE TABLE EmploymentCostIndex({})\".format(header))"
   ]
  }
 ],
 "metadata": {
  "language_info": {
   "codemirror_mode": {
    "name": "ipython",
    "version": 3
   },
   "file_extension": ".py",
   "mimetype": "text/x-python",
   "name": "python",
   "nbconvert_exporter": "python",
   "pygments_lexer": "ipython3",
   "version": "3.7.6-final"
  },
  "orig_nbformat": 2,
  "kernelspec": {
   "name": "python37464bitandrewhicksvirtualenvb486e185a75b458ea1d520c1feb759ee",
   "display_name": "Python 3.7.4 64-bit ('Andrew Hicks': virtualenv)"
  }
 },
 "nbformat": 4,
 "nbformat_minor": 2
}