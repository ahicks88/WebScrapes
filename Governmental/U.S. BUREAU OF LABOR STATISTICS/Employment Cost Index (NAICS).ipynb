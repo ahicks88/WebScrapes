{
 "cells": [
  {
   "cell_type": "code",
   "execution_count": 1,
   "metadata": {},
   "outputs": [],
   "source": [
    "import cx_Oracle\n",
    "pswd = input(\"Enter your password: \")\n",
    "dsn_tns = cx_Oracle.makedsn('10.0.0.210', '1521', service_name='XE')\n",
    "conn = cx_Oracle.connect(user=r'ahicks88', password=pswd, dsn=dsn_tns) \n",
    "c = conn.cursor()"
   ]
  },
  {
   "cell_type": "code",
   "execution_count": 47,
   "metadata": {},
   "outputs": [],
   "source": [
    "#Access browser driver for Selenium:\n",
    "from selenium import webdriver\n",
    "\n",
    "options = webdriver.ChromeOptions()\n",
    "options.add_argument('--ignore-certificate-errors')\n",
    "options.add_argument('--incognito')\n",
    "options.add_argument('--headless')\n",
    "driver = webdriver.Chrome(r\"C:\\Users\\Andrew Hicks\\Documents\\Analytics\\GitHub\\WebScrapes\\WebScrapes\\bin\\Debug\\netcoreapp3.1\\chromedriver\", chrome_options=options)"
   ]
  },
  {
   "cell_type": "code",
   "execution_count": null,
   "metadata": {},
   "outputs": [],
   "source": []
  },
  {
   "cell_type": "code",
   "execution_count": null,
   "metadata": {},
   "outputs": [],
   "source": []
  },
  {
   "cell_type": "code",
   "execution_count": 39,
   "metadata": {
    "tags": [
     "outputPrepend"
    ]
   },
   "outputs": [
    {
     "output_type": "error",
     "ename": "AttributeError",
     "evalue": "ResultSet object has no attribute 'children'. You're probably treating a list of elements like a single element. Did you call find_all() when you meant to call find()?",
     "traceback": [
      "\u001b[1;31m---------------------------------------------------------------------------\u001b[0m",
      "\u001b[1;31mAttributeError\u001b[0m                            Traceback (most recent call last)",
      "\u001b[1;32m<ipython-input-39-91e8358faf5d>\u001b[0m in \u001b[0;36m<module>\u001b[1;34m\u001b[0m\n\u001b[0;32m     13\u001b[0m \u001b[0mtable_data\u001b[0m \u001b[1;33m=\u001b[0m \u001b[0mBeautifulSoup\u001b[0m\u001b[1;33m(\u001b[0m\u001b[0murlopen\u001b[0m\u001b[1;33m(\u001b[0m\u001b[0murl\u001b[0m\u001b[1;33m)\u001b[0m\u001b[1;33m.\u001b[0m\u001b[0mread\u001b[0m\u001b[1;33m(\u001b[0m\u001b[1;33m)\u001b[0m\u001b[1;33m)\u001b[0m\u001b[1;33m.\u001b[0m\u001b[0mfind_all\u001b[0m\u001b[1;33m(\u001b[0m\u001b[1;34m'body'\u001b[0m\u001b[1;33m)\u001b[0m\u001b[1;33m\u001b[0m\u001b[1;33m\u001b[0m\u001b[0m\n\u001b[0;32m     14\u001b[0m \u001b[1;31m# table_data\u001b[0m\u001b[1;33m\u001b[0m\u001b[1;33m\u001b[0m\u001b[1;33m\u001b[0m\u001b[0m\n\u001b[1;32m---> 15\u001b[1;33m \u001b[0mlist\u001b[0m\u001b[1;33m(\u001b[0m\u001b[0mtable_data\u001b[0m\u001b[1;33m.\u001b[0m\u001b[0mchildren\u001b[0m\u001b[1;33m)\u001b[0m\u001b[1;33m\u001b[0m\u001b[1;33m\u001b[0m\u001b[0m\n\u001b[0m\u001b[0;32m     16\u001b[0m \u001b[1;33m\u001b[0m\u001b[0m\n\u001b[0;32m     17\u001b[0m \u001b[1;31m# table1 = table_data\u001b[0m\u001b[1;33m\u001b[0m\u001b[1;33m\u001b[0m\u001b[1;33m\u001b[0m\u001b[0m\n",
      "\u001b[1;32m~\\Anaconda3\\lib\\site-packages\\bs4\\element.py\u001b[0m in \u001b[0;36m__getattr__\u001b[1;34m(self, key)\u001b[0m\n\u001b[0;32m   2079\u001b[0m         \u001b[1;34m\"\"\"Raise a helpful exception to explain a common code fix.\"\"\"\u001b[0m\u001b[1;33m\u001b[0m\u001b[1;33m\u001b[0m\u001b[0m\n\u001b[0;32m   2080\u001b[0m         raise AttributeError(\n\u001b[1;32m-> 2081\u001b[1;33m             \u001b[1;34m\"ResultSet object has no attribute '%s'. You're probably treating a list of elements like a single element. Did you call find_all() when you meant to call find()?\"\u001b[0m \u001b[1;33m%\u001b[0m \u001b[0mkey\u001b[0m\u001b[1;33m\u001b[0m\u001b[1;33m\u001b[0m\u001b[0m\n\u001b[0m\u001b[0;32m   2082\u001b[0m         )\n",
      "\u001b[1;31mAttributeError\u001b[0m: ResultSet object has no attribute 'children'. You're probably treating a list of elements like a single element. Did you call find_all() when you meant to call find()?"
     ]
    }
   ],
   "source": [
    "from bs4 import BeautifulSoup\n",
    "from urllib.request import urlopen\n",
    "import pandas as pd\n",
    "import numpy as np\n",
    "import requests\n",
    "\n",
    "# Team Stats and Rankings\n",
    "url = \"https://data.bls.gov/cgi-bin/surveymost\"\n",
    "# soup = BeautifulSoup(url.content, 'html.parser')\n",
    "# # print(soup.prettify())  \n",
    "# soup.find_all('th')\n",
    "\n",
    "table_data = BeautifulSoup(urlopen(url).read()).find_all('body')\n",
    "table_data\n",
    "\n",
    "\n",
    "# table1 = table_data\n",
    "# table1\n",
    "# header = table1.find_all(scope=\"col\")\n",
    "# table_head = []\n",
    "# for row in header:\n",
    "#     row_values = [value.string for value in header]  \n",
    "#     table_head.append(row_values)\n",
    "# table_head = table_head[0]\n",
    "\n",
    "# rows = table1.find_all(\"td\")\n",
    "# table_data = []\n",
    "# for row in rows:\n",
    "#     row_values = [value.string for value in rows]  \n",
    "#     table_data.append(row_values)\n",
    "# table_data = table_data[1]\n",
    "\n",
    "# head = table_head[0:30]\n",
    "# row1 = table_data[0:30]\n",
    "# row2 = table_data[30:60]\n",
    "# row3 = table_data[60:90]\n",
    "# row4 = table_data[90:120]\n",
    "\n",
    "# df2 = pd.DataFrame([row1,row2,row3,row4])\n",
    "# df2.columns =[head] \n",
    "# df2"
   ]
  },
  {
   "cell_type": "code",
   "execution_count": 45,
   "metadata": {},
   "outputs": [
    {
     "output_type": "stream",
     "name": "stdout",
     "text": "[<div class=\"verdana md\" id=\"bodytext\">\n<!-- 1COL LAYOUT COL1 END -->\n<!--no_index_end-->\n<!-- MAIN CONTENT BEGIN -->\n<!-- ****************************************** END HEADER ************************************************ -->\n<form action=\"https://data.bls.gov/cgi-bin/surveymost\" method=\"post\">\n<h4><em>(Select from list below)</em>\n<br/>Employment</h4>\n<dl>\n<dt>\n<dd><input name=\"series_id\" type=\"checkbox\" value=\"LNS11000000\"/> Civilian Labor Force (Seasonally Adjusted) - LNS11000000\n<dd><input name=\"series_id\" type=\"checkbox\" value=\"LNS12000000\"/> Civilian Employment (Seasonally Adjusted) - LNS12000000\n<dd><input name=\"series_id\" type=\"checkbox\" value=\"LNS13000000\"/> Civilian Unemployment (Seasonally Adjusted) - LNS13000000\n<dd><input name=\"series_id\" type=\"checkbox\" value=\"LNS14000000\"/> Unemployment Rate (Seasonally Adjusted) - LNS14000000\n<dd><input name=\"series_id\" type=\"checkbox\" value=\"CES0000000001\"/> Total Nonfarm Employment - Seasonally Adjusted - CES0000000001\n<dd><input name=\"series_id\" type=\"checkbox\" value=\"CES0500000002\"/> Total Private Average Weekly Hours of All Employees - Seasonally Adjusted - CES0500000002\n<dd><input name=\"series_id\" type=\"checkbox\" value=\"CES0500000007\"/> Total Private Average Weekly Hours of Prod. and Nonsup. Employees - Seasonally Adjusted - CES0500000007\n<dd><input name=\"series_id\" type=\"checkbox\" value=\"CES0500000003\"/> Total Private Average Hourly Earnings of All Employees - Seasonally Adjusted - CES0500000003\n<dd><input name=\"series_id\" type=\"checkbox\" value=\"CES0500000008\"/> Total Private Average Hourly Earnings of Prod. and Nonsup. Employees - Seasonally Adjusted - CES0500000008\n</dd></dd></dd></dd></dd></dd></dd></dd></dd></dt>\n</dl>\n<h4>Productivity</h4>\n<dl>\n<dt>\n<dd><input name=\"series_id\" type=\"checkbox\" value=\"PRS85006092\"/> Output Per Hour - Non-farm Business Productivity                                           - PRS85006092\n<dd><input name=\"series_id\" type=\"checkbox\" value=\"PRS85006112\"/> Nonfarm Business Unit Labor Costs                                                          - PRS85006112\n<dd><input name=\"series_id\" type=\"checkbox\" value=\"PRS85006152\"/> Nonfarm Business Real Hourly Compensation                                                  - PRS85006152\n<dd><input name=\"series_id\" type=\"checkbox\" value=\"MPU4910012\"/> Private Nonfarm Business - Multifactor Productivity, annual index  - MPU4910012\n</dd></dd></dd></dd></dt>\n</dl>\n<h4>Price Indexes</h4>\n<dl>\n<dt>\n<dd><input name=\"series_id\" type=\"checkbox\" value=\"CUUR0000SA0\"/> CPI for All Urban Consumers (CPI-U) 1982-84=100 (Unadjusted)                               - CUUR0000SA0\n<dd><input name=\"series_id\" type=\"checkbox\" value=\"CUUR0000AA0\"/> CPI for All Urban Consumers (CPI-U) 1967=100 (Unadjusted)                                  - CUUR0000AA0\n<dd><input name=\"series_id\" type=\"checkbox\" value=\"CWUR0000SA0\"/> CPI for Urban Wage Earners and Clerical Workers (CPI-W) 1982-84=100 (Unadjusted)           - CWUR0000SA0\n<dd><input name=\"series_id\" type=\"checkbox\" value=\"CUUR0000SA0L1E\"/> CPI-U/Less Food and Energy (Unadjusted)                                                    - CUUR0000SA0L1E\n<dd><input name=\"series_id\" type=\"checkbox\" value=\"CWUR0000SA0L1E\"/> CPI-W/Less Food and Energy (Unadjusted)                                                    - CWUR0000SA0L1E\n<dd><input name=\"series_id\" type=\"checkbox\" value=\"WPSFD4\"/> PPI Final Demand (Seasonally Adjusted)                                                     - WPSFD4\n<dd><input name=\"series_id\" type=\"checkbox\" value=\"WPUFD4\"/> PPI Final Demand (Unadjusted)                                                              - WPUFD4\n<dd><input name=\"series_id\" type=\"checkbox\" value=\"WPUFD49104\"/> PPI Final Demand less foods and energy (Unadjusted)                                        - WPUFD49104\n<dd><input name=\"series_id\" type=\"checkbox\" value=\"WPUFD49116\"/> PPI Final Demand less foods, energy, and trade services (Unadjusted)                       - WPUFD49116\n<dd><input name=\"series_id\" type=\"checkbox\" value=\"WPUFD49207\"/> PPI Finished Goods 1982=100 (Unadjusted)                                           - WPUFD49207\n<dd><input name=\"series_id\" type=\"checkbox\" value=\"EIUIR\"/> Imports - All Commodities                                                                  - EIUIR\n<dd><input name=\"series_id\" type=\"checkbox\" value=\"EIUIQ\"/> Exports - All Commodities                                                                  - EIUIQ\n</dd></dd></dd></dd></dd></dd></dd></dd></dd></dd></dd></dd></dt>\n</dl>\n<h4>Compensation</h4>\n<dl>\n<dt>\n<dd><input name=\"series_id\" type=\"checkbox\" value=\"CIU1010000000000A\"/> Employment Cost Index (ECI) Civilian (Unadjusted)                                          - CIU1010000000000A\n<dd><input name=\"series_id\" type=\"checkbox\" value=\"CIU2010000000000A\"/> ECI Private (Unadjusted)                                                                   - CIU2010000000000A\n<dd><input name=\"series_id\" type=\"checkbox\" value=\"CIU2020000000000A\"/> ECI Private Wage and Salaries (Unadjusted)                                                 - CIU2020000000000A\n</dd></dd></dd></dt>\n</dl>\n<!-- Start of hidden variables -->\n<input name=\"survey\" size=\"0\" type=\"hidden\" value=\"bls\"/>\n<!--  This is the beginning of the format hidden variables -->\n<input name=\"format\" size=\"0\" type=\"hidden\" value=\"\"/>\n<input name=\"html_tables\" size=\"0\" type=\"hidden\" value=\"\"/>\n<input name=\"delimiter\" size=\"0\" type=\"hidden\" value=\"\"/>\n<input name=\"catalog\" size=\"0\" type=\"hidden\" value=\"\"/>\n<input name=\"print_line_length\" size=\"0\" type=\"hidden\" value=\"\"/>\n<input name=\"lines_per_page\" size=\"0\" type=\"hidden\" value=\"\"/>\n<input name=\"row_stub_key\" size=\"0\" type=\"hidden\" value=\"\"/>\n<input name=\"year\" size=\"0\" type=\"hidden\" value=\"\"/>\n<input name=\"date\" size=\"0\" type=\"hidden\" value=\"\"/>\n<input name=\"net_change_start\" size=\"0\" type=\"hidden\" value=\"\"/>\n<input name=\"net_change_end\" size=\"0\" type=\"hidden\" value=\"\"/>\n<input name=\"percent_change_start\" size=\"0\" type=\"hidden\" value=\"\"/>\n<input name=\"percent_change_end\" size=\"0\" type=\"hidden\" value=\"\"/>\n<!-- End of format hidden variables -->\n<!-- End of hidden variables -->\n<p><input type=\"Submit\" value=\"Retrieve data\"/> <input type=\"Reset\" value=\"Reset form\"/></p>\n<hr/>\n</form>\n<!-- MAIN CONTENT END -->\n<!--no_index_start-->\n<!-- 2COL LAYOUT COL2 BEGIN -->\n</div>]\n"
    }
   ],
   "source": [
    "target = \"https://data.bls.gov/cgi-bin/surveymost?bls\"\n",
    "html = urlopen(target)\n",
    "soup = BeautifulSoup(html, \"html.parser\")\n",
    "roots = soup.find_all(\"div\", id=\"bodytext\")\n",
    "print(roots)\n",
    "\n",
    "\n",
    "\n",
    "\n",
    "\n",
    "\n",
    "\n",
    "\n"
   ]
  },
  {
   "cell_type": "code",
   "execution_count": null,
   "metadata": {},
   "outputs": [],
   "source": []
  },
  {
   "cell_type": "code",
   "execution_count": null,
   "metadata": {},
   "outputs": [],
   "source": [
    "head = [elm + str(index) for index, elm in enumerate(head)]\n",
    "\n",
    "header = \"\"\n",
    "for num in head:\n",
    "    head_item = \"{} DECIMAL (18, 2), \".format(num)\n",
    "    if head_item[0].isdigit() == True:\n",
    "        header += \"a_\" + head_item\n",
    "    else:\n",
    "        header += head_item\n",
    "header   \n",
    "\n",
    "# initializing bad_chars_list \n",
    "bad_chars = [';', ':', '!', \"*\",\"/\",\"#\",\"%\"] \n",
    "\n",
    "# remove bad_chars  \n",
    "for i in bad_chars : \n",
    "    header = header.replace(i, '') \n",
    "header = header[:-2]\n",
    "header"
   ]
  },
  {
   "cell_type": "code",
   "execution_count": null,
   "metadata": {},
   "outputs": [],
   "source": [
    "c.execute(\"CREATE TABLE EmploymentCostIndex({})\".format(header))"
   ]
  },
  {
   "cell_type": "code",
   "execution_count": null,
   "metadata": {},
   "outputs": [],
   "source": []
  },
  {
   "cell_type": "code",
   "execution_count": 26,
   "metadata": {},
   "outputs": [
    {
     "output_type": "error",
     "ename": "SyntaxError",
     "evalue": "invalid syntax (<ipython-input-26-5b2e080ee73f>, line 18)",
     "traceback": [
      "\u001b[1;36m  File \u001b[1;32m\"<ipython-input-26-5b2e080ee73f>\"\u001b[1;36m, line \u001b[1;32m18\u001b[0m\n\u001b[1;33m    enterprise_link = driver.find_element_by_xpath(\"//option[@id=\"bodytext\"]\").click()\u001b[0m\n\u001b[1;37m                                                                         ^\u001b[0m\n\u001b[1;31mSyntaxError\u001b[0m\u001b[1;31m:\u001b[0m invalid syntax\n"
     ]
    }
   ],
   "source": [
    "#YouTube = https://youtu.be/GJjMjB3rkJM\n",
    "\n",
    "from selenium import webdriver\n",
    "\n",
    "url = \"https://data.bls.gov/cgi-bin/surveymost?bls\"\n",
    "\n",
    "# Open up a Chrome browser and navigate to web page.\n",
    "options = webdriver.ChromeOptions()\n",
    "options.add_argument('--ignore-certificate-errors')\n",
    "options.add_argument('--incognito')\n",
    "# options.add_argument('--headless') # will run without opening browser.\n",
    "driver = webdriver.Chrome(r\"C:\\Users\\Andrew Hicks\\Documents\\Analytics\\GitHub\\WebScrapes\\WebScrapes\\chromedriver\", chrome_options=options)\n",
    "driver.get(url)\n",
    "\n",
    "# Finding elements on the browser:\n",
    "\n",
    "# elem = driver.findelement(By.value(\"\"));\n",
    "enterprise_link = driver.find_element_by_xpath(\"//option[@id=\"bodytext\"]\").click() \n",
    "# //*[]/form/dl[1]/dd[1]/input\n",
    "\n",
    "# <input type=\"checkbox\" name=\"series_id\" value=\"LNS11000000\">\n",
    "\n",
    "\n",
    "# elem = driver.find_elements_by_xpath('//*[@id=\"bodytext\"]/form/dl[1]/dd[1]/input')\n",
    "#.click()\n",
    "# elem = driver.find_element_by_link_text('Downloads')\n",
    "# elem.text # get the object in text\n",
    "# elem.get_attribute('href') # get the link of the object\n",
    "# elem.click() # clicks on the object"
   ]
  },
  {
   "cell_type": "code",
   "execution_count": null,
   "metadata": {},
   "outputs": [],
   "source": [
    "class Checkbox:\n",
    "    \n",
    "    def __init__(self, driver, checkbox_id):\n",
    "\n",
    "        self.checkbox_id = checkbox_id\n",
    "        self.driver = driver\n",
    "        self.checkbox = driver.find_element_by_id(checkbox_id)\n",
    "    \n",
    "    def is_enabled(self, use_js=True):\n",
    "\n",
    "        if use_js:\n",
    "            return self.driver.execute_script(\"return document.getElementById('{}').checked\".format(self.checkbox_id))\n",
    "        return \"LNS11000000\" in self.checkbox.get_attribute(\"value\")\n",
    "\n",
    "    def enabled(self, enable):\n",
    "        if (enable and not self.is_enabled()) or (not enable and self.is_enabled()):\n",
    "            self.checkbox.click()\n",
    "        else:\n",
    "            print(\"Checkbox is already set to: {}\".format(enable))\n",
    "        return self\n",
    "\n"
   ]
  }
 ],
 "metadata": {
  "language_info": {
   "codemirror_mode": {
    "name": "ipython",
    "version": 3
   },
   "file_extension": ".py",
   "mimetype": "text/x-python",
   "name": "python",
   "nbconvert_exporter": "python",
   "pygments_lexer": "ipython3",
   "version": "3.7.6-final"
  },
  "orig_nbformat": 2,
  "kernelspec": {
   "name": "python37464bitandrewhicksvirtualenvb486e185a75b458ea1d520c1feb759ee",
   "display_name": "Python 3.7.4 64-bit ('Andrew Hicks': virtualenv)"
  }
 },
 "nbformat": 4,
 "nbformat_minor": 2
}