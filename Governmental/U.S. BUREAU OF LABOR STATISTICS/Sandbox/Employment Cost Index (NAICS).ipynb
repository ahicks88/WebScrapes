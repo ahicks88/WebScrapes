{
 "cells": [
  {
   "cell_type": "code",
   "execution_count": 1,
   "metadata": {},
   "outputs": [],
   "source": [
    "import cx_Oracle\n",
    "pswd = input(\"Enter your password: \")\n",
    "dsn_tns = cx_Oracle.makedsn('10.0.0.210', '1521', service_name='XE')\n",
    "conn = cx_Oracle.connect(user=r'ahicks88', password=pswd, dsn=dsn_tns) \n",
    "c = conn.cursor()"
   ]
  },
  {
   "cell_type": "code",
   "execution_count": 39,
   "metadata": {
    "tags": [
     "outputPrepend"
    ]
   },
   "outputs": [
    {
     "output_type": "error",
     "ename": "AttributeError",
     "evalue": "ResultSet object has no attribute 'children'. You're probably treating a list of elements like a single element. Did you call find_all() when you meant to call find()?",
     "traceback": [
      "\u001b[1;31m---------------------------------------------------------------------------\u001b[0m",
      "\u001b[1;31mAttributeError\u001b[0m                            Traceback (most recent call last)",
      "\u001b[1;32m<ipython-input-39-91e8358faf5d>\u001b[0m in \u001b[0;36m<module>\u001b[1;34m\u001b[0m\n\u001b[0;32m     13\u001b[0m \u001b[0mtable_data\u001b[0m \u001b[1;33m=\u001b[0m \u001b[0mBeautifulSoup\u001b[0m\u001b[1;33m(\u001b[0m\u001b[0murlopen\u001b[0m\u001b[1;33m(\u001b[0m\u001b[0murl\u001b[0m\u001b[1;33m)\u001b[0m\u001b[1;33m.\u001b[0m\u001b[0mread\u001b[0m\u001b[1;33m(\u001b[0m\u001b[1;33m)\u001b[0m\u001b[1;33m)\u001b[0m\u001b[1;33m.\u001b[0m\u001b[0mfind_all\u001b[0m\u001b[1;33m(\u001b[0m\u001b[1;34m'body'\u001b[0m\u001b[1;33m)\u001b[0m\u001b[1;33m\u001b[0m\u001b[1;33m\u001b[0m\u001b[0m\n\u001b[0;32m     14\u001b[0m \u001b[1;31m# table_data\u001b[0m\u001b[1;33m\u001b[0m\u001b[1;33m\u001b[0m\u001b[1;33m\u001b[0m\u001b[0m\n\u001b[1;32m---> 15\u001b[1;33m \u001b[0mlist\u001b[0m\u001b[1;33m(\u001b[0m\u001b[0mtable_data\u001b[0m\u001b[1;33m.\u001b[0m\u001b[0mchildren\u001b[0m\u001b[1;33m)\u001b[0m\u001b[1;33m\u001b[0m\u001b[1;33m\u001b[0m\u001b[0m\n\u001b[0m\u001b[0;32m     16\u001b[0m \u001b[1;33m\u001b[0m\u001b[0m\n\u001b[0;32m     17\u001b[0m \u001b[1;31m# table1 = table_data\u001b[0m\u001b[1;33m\u001b[0m\u001b[1;33m\u001b[0m\u001b[1;33m\u001b[0m\u001b[0m\n",
      "\u001b[1;32m~\\Anaconda3\\lib\\site-packages\\bs4\\element.py\u001b[0m in \u001b[0;36m__getattr__\u001b[1;34m(self, key)\u001b[0m\n\u001b[0;32m   2079\u001b[0m         \u001b[1;34m\"\"\"Raise a helpful exception to explain a common code fix.\"\"\"\u001b[0m\u001b[1;33m\u001b[0m\u001b[1;33m\u001b[0m\u001b[0m\n\u001b[0;32m   2080\u001b[0m         raise AttributeError(\n\u001b[1;32m-> 2081\u001b[1;33m             \u001b[1;34m\"ResultSet object has no attribute '%s'. You're probably treating a list of elements like a single element. Did you call find_all() when you meant to call find()?\"\u001b[0m \u001b[1;33m%\u001b[0m \u001b[0mkey\u001b[0m\u001b[1;33m\u001b[0m\u001b[1;33m\u001b[0m\u001b[0m\n\u001b[0m\u001b[0;32m   2082\u001b[0m         )\n",
      "\u001b[1;31mAttributeError\u001b[0m: ResultSet object has no attribute 'children'. You're probably treating a list of elements like a single element. Did you call find_all() when you meant to call find()?"
     ]
    }
   ],
   "source": []
  },
  {
   "cell_type": "code",
   "execution_count": 45,
   "metadata": {},
   "outputs": [
    {
     "output_type": "stream",
     "name": "stdout",
     "text": "[<div class=\"verdana md\" id=\"bodytext\">\n<!-- 1COL LAYOUT COL1 END -->\n<!--no_index_end-->\n<!-- MAIN CONTENT BEGIN -->\n<!-- ****************************************** END HEADER ************************************************ -->\n<form action=\"https://data.bls.gov/cgi-bin/surveymost\" method=\"post\">\n<h4><em>(Select from list below)</em>\n<br/>Employment</h4>\n<dl>\n<dt>\n<dd><input name=\"series_id\" type=\"checkbox\" value=\"LNS11000000\"/> Civilian Labor Force (Seasonally Adjusted) - LNS11000000\n<dd><input name=\"series_id\" type=\"checkbox\" value=\"LNS12000000\"/> Civilian Employment (Seasonally Adjusted) - LNS12000000\n<dd><input name=\"series_id\" type=\"checkbox\" value=\"LNS13000000\"/> Civilian Unemployment (Seasonally Adjusted) - LNS13000000\n<dd><input name=\"series_id\" type=\"checkbox\" value=\"LNS14000000\"/> Unemployment Rate (Seasonally Adjusted) - LNS14000000\n<dd><input name=\"series_id\" type=\"checkbox\" value=\"CES0000000001\"/> Total Nonfarm Employment - Seasonally Adjusted - CES0000000001\n<dd><input name=\"series_id\" type=\"checkbox\" value=\"CES0500000002\"/> Total Private Average Weekly Hours of All Employees - Seasonally Adjusted - CES0500000002\n<dd><input name=\"series_id\" type=\"checkbox\" value=\"CES0500000007\"/> Total Private Average Weekly Hours of Prod. and Nonsup. Employees - Seasonally Adjusted - CES0500000007\n<dd><input name=\"series_id\" type=\"checkbox\" value=\"CES0500000003\"/> Total Private Average Hourly Earnings of All Employees - Seasonally Adjusted - CES0500000003\n<dd><input name=\"series_id\" type=\"checkbox\" value=\"CES0500000008\"/> Total Private Average Hourly Earnings of Prod. and Nonsup. Employees - Seasonally Adjusted - CES0500000008\n</dd></dd></dd></dd></dd></dd></dd></dd></dd></dt>\n</dl>\n<h4>Productivity</h4>\n<dl>\n<dt>\n<dd><input name=\"series_id\" type=\"checkbox\" value=\"PRS85006092\"/> Output Per Hour - Non-farm Business Productivity                                           - PRS85006092\n<dd><input name=\"series_id\" type=\"checkbox\" value=\"PRS85006112\"/> Nonfarm Business Unit Labor Costs                                                          - PRS85006112\n<dd><input name=\"series_id\" type=\"checkbox\" value=\"PRS85006152\"/> Nonfarm Business Real Hourly Compensation                                                  - PRS85006152\n<dd><input name=\"series_id\" type=\"checkbox\" value=\"MPU4910012\"/> Private Nonfarm Business - Multifactor Productivity, annual index  - MPU4910012\n</dd></dd></dd></dd></dt>\n</dl>\n<h4>Price Indexes</h4>\n<dl>\n<dt>\n<dd><input name=\"series_id\" type=\"checkbox\" value=\"CUUR0000SA0\"/> CPI for All Urban Consumers (CPI-U) 1982-84=100 (Unadjusted)                               - CUUR0000SA0\n<dd><input name=\"series_id\" type=\"checkbox\" value=\"CUUR0000AA0\"/> CPI for All Urban Consumers (CPI-U) 1967=100 (Unadjusted)                                  - CUUR0000AA0\n<dd><input name=\"series_id\" type=\"checkbox\" value=\"CWUR0000SA0\"/> CPI for Urban Wage Earners and Clerical Workers (CPI-W) 1982-84=100 (Unadjusted)           - CWUR0000SA0\n<dd><input name=\"series_id\" type=\"checkbox\" value=\"CUUR0000SA0L1E\"/> CPI-U/Less Food and Energy (Unadjusted)                                                    - CUUR0000SA0L1E\n<dd><input name=\"series_id\" type=\"checkbox\" value=\"CWUR0000SA0L1E\"/> CPI-W/Less Food and Energy (Unadjusted)                                                    - CWUR0000SA0L1E\n<dd><input name=\"series_id\" type=\"checkbox\" value=\"WPSFD4\"/> PPI Final Demand (Seasonally Adjusted)                                                     - WPSFD4\n<dd><input name=\"series_id\" type=\"checkbox\" value=\"WPUFD4\"/> PPI Final Demand (Unadjusted)                                                              - WPUFD4\n<dd><input name=\"series_id\" type=\"checkbox\" value=\"WPUFD49104\"/> PPI Final Demand less foods and energy (Unadjusted)                                        - WPUFD49104\n<dd><input name=\"series_id\" type=\"checkbox\" value=\"WPUFD49116\"/> PPI Final Demand less foods, energy, and trade services (Unadjusted)                       - WPUFD49116\n<dd><input name=\"series_id\" type=\"checkbox\" value=\"WPUFD49207\"/> PPI Finished Goods 1982=100 (Unadjusted)                                           - WPUFD49207\n<dd><input name=\"series_id\" type=\"checkbox\" value=\"EIUIR\"/> Imports - All Commodities                                                                  - EIUIR\n<dd><input name=\"series_id\" type=\"checkbox\" value=\"EIUIQ\"/> Exports - All Commodities                                                                  - EIUIQ\n</dd></dd></dd></dd></dd></dd></dd></dd></dd></dd></dd></dd></dt>\n</dl>\n<h4>Compensation</h4>\n<dl>\n<dt>\n<dd><input name=\"series_id\" type=\"checkbox\" value=\"CIU1010000000000A\"/> Employment Cost Index (ECI) Civilian (Unadjusted)                                          - CIU1010000000000A\n<dd><input name=\"series_id\" type=\"checkbox\" value=\"CIU2010000000000A\"/> ECI Private (Unadjusted)                                                                   - CIU2010000000000A\n<dd><input name=\"series_id\" type=\"checkbox\" value=\"CIU2020000000000A\"/> ECI Private Wage and Salaries (Unadjusted)                                                 - CIU2020000000000A\n</dd></dd></dd></dt>\n</dl>\n<!-- Start of hidden variables -->\n<input name=\"survey\" size=\"0\" type=\"hidden\" value=\"bls\"/>\n<!--  This is the beginning of the format hidden variables -->\n<input name=\"format\" size=\"0\" type=\"hidden\" value=\"\"/>\n<input name=\"html_tables\" size=\"0\" type=\"hidden\" value=\"\"/>\n<input name=\"delimiter\" size=\"0\" type=\"hidden\" value=\"\"/>\n<input name=\"catalog\" size=\"0\" type=\"hidden\" value=\"\"/>\n<input name=\"print_line_length\" size=\"0\" type=\"hidden\" value=\"\"/>\n<input name=\"lines_per_page\" size=\"0\" type=\"hidden\" value=\"\"/>\n<input name=\"row_stub_key\" size=\"0\" type=\"hidden\" value=\"\"/>\n<input name=\"year\" size=\"0\" type=\"hidden\" value=\"\"/>\n<input name=\"date\" size=\"0\" type=\"hidden\" value=\"\"/>\n<input name=\"net_change_start\" size=\"0\" type=\"hidden\" value=\"\"/>\n<input name=\"net_change_end\" size=\"0\" type=\"hidden\" value=\"\"/>\n<input name=\"percent_change_start\" size=\"0\" type=\"hidden\" value=\"\"/>\n<input name=\"percent_change_end\" size=\"0\" type=\"hidden\" value=\"\"/>\n<!-- End of format hidden variables -->\n<!-- End of hidden variables -->\n<p><input type=\"Submit\" value=\"Retrieve data\"/> <input type=\"Reset\" value=\"Reset form\"/></p>\n<hr/>\n</form>\n<!-- MAIN CONTENT END -->\n<!--no_index_start-->\n<!-- 2COL LAYOUT COL2 BEGIN -->\n</div>]\n"
    }
   ],
   "source": [
    "target = \"https://data.bls.gov/cgi-bin/surveymost?bls\"\n",
    "html = urlopen(target)\n",
    "soup = BeautifulSoup(html, \"html.parser\")\n",
    "roots = soup.find_all(\"div\", id=\"bodytext\")\n",
    "print(roots)\n",
    "\n",
    "\n",
    "\n",
    "\n",
    "\n",
    "\n",
    "\n",
    "\n"
   ]
  },
  {
   "cell_type": "code",
   "execution_count": null,
   "metadata": {},
   "outputs": [],
   "source": []
  },
  {
   "cell_type": "code",
   "execution_count": null,
   "metadata": {},
   "outputs": [],
   "source": [
    "head = [elm + str(index) for index, elm in enumerate(head)]\n",
    "\n",
    "header = \"\"\n",
    "for num in head:\n",
    "    head_item = \"{} DECIMAL (18, 2), \".format(num)\n",
    "    if head_item[0].isdigit() == True:\n",
    "        header += \"a_\" + head_item\n",
    "    else:\n",
    "        header += head_item\n",
    "header   \n",
    "\n",
    "# initializing bad_chars_list \n",
    "bad_chars = [';', ':', '!', \"*\",\"/\",\"#\",\"%\"] \n",
    "\n",
    "# remove bad_chars  \n",
    "for i in bad_chars : \n",
    "    header = header.replace(i, '') \n",
    "header = header[:-2]\n",
    "header"
   ]
  },
  {
   "cell_type": "code",
   "execution_count": null,
   "metadata": {},
   "outputs": [],
   "source": [
    "c.execute(\"CREATE TABLE EmploymentCostIndex({})\".format(header))"
   ]
  },
  {
   "cell_type": "code",
   "execution_count": null,
   "metadata": {},
   "outputs": [],
   "source": [
    "------------------------------------------------------------------------------------------------------------------------------------------------------------------------------------------"
   ]
  },
  {
   "cell_type": "code",
   "execution_count": 71,
   "metadata": {},
   "outputs": [
    {
     "output_type": "stream",
     "name": "stdout",
     "text": "Estimate Value\nStandard Error\n"
    }
   ],
   "source": [
    "from bs4 import BeautifulSoup\n",
    "from urllib.request import urlopen\n",
    "import pandas as pd\n",
    "import numpy as np\n",
    "import requests\n",
    "import lxml.html as lh\n",
    "\n",
    "from selenium import webdriver\n",
    "url = \"https://data.bls.gov/cgi-bin/surveymost?bls\"\n",
    "ChromeSource = r\"C:\\Users\\Andrew Hicks\\Documents\\Analytics\\GitHub\\WebScrapes\\WebScrapes\\chromedriver\"\n",
    "\n",
    "# Open up a Chrome browser and navigate to web page.\n",
    "options = webdriver.ChromeOptions()\n",
    "options.add_argument('--ignore-certificate-errors')\n",
    "options.add_argument('--incognito')\n",
    "options.add_argument('--headless') # will run without opening browser.\n",
    "driver = webdriver.Chrome(ChromeSource, chrome_options=options)\n",
    "driver.get(url)\n",
    "\n",
    "driver.find_element_by_xpath(\"//input[@type='checkbox' and @value = 'CIU1010000000000A']\").click()\n",
    "driver.find_element_by_xpath(\"//input[@type='Submit' and @value = 'Retrieve data']\").click()\n",
    "\n",
    "#-------------------------------------------------------------------------------------------------------------------------------------------------\n",
    "i = 2\n",
    "\n",
    "def myTEST(i):\n",
    "    xpath = '//*[@id=\"col' + str(i) + '\"]'\n",
    "    TEST = driver.find_elements_by_xpath(xpath)\n",
    "\n",
    "    num_page_items = len(TEST)\n",
    "    for i in range(num_page_items):\n",
    "        print(TEST[i].text)\n",
    "myTEST(i)\n",
    "# ------------------------------------------------------------------------------------------------------------------------------------------------\n",
    "\n",
    "# Clean up (close browser once completed task).\n",
    "driver.close()\n"
   ]
  },
  {
   "cell_type": "code",
   "execution_count": 70,
   "metadata": {},
   "outputs": [
    {
     "output_type": "execute_result",
     "data": {
      "text/plain": "<selenium.webdriver.chrome.webdriver.WebDriver (session=\"0d08a64435d66b3e19c3c8cf9e60127e\")>"
     },
     "metadata": {},
     "execution_count": 70
    }
   ],
   "source": [
    "driver"
   ]
  },
  {
   "cell_type": "code",
   "execution_count": null,
   "metadata": {},
   "outputs": [],
   "source": []
  },
  {
   "cell_type": "code",
   "execution_count": null,
   "metadata": {},
   "outputs": [],
   "source": []
  },
  {
   "cell_type": "code",
   "execution_count": 74,
   "metadata": {},
   "outputs": [
    {
     "output_type": "execute_result",
     "data": {
      "text/plain": "'Meanie'"
     },
     "metadata": {},
     "execution_count": 74
    }
   ],
   "source": [
    "You = \"M{}nie\".format(\"ea\")\n",
    "You"
   ]
  },
  {
   "cell_type": "code",
   "execution_count": null,
   "metadata": {},
   "outputs": [],
   "source": []
  },
  {
   "cell_type": "code",
   "execution_count": null,
   "metadata": {},
   "outputs": [],
   "source": []
  },
  {
   "cell_type": "code",
   "execution_count": null,
   "metadata": {},
   "outputs": [],
   "source": []
  },
  {
   "cell_type": "code",
   "execution_count": 105,
   "metadata": {},
   "outputs": [
    {
     "output_type": "execute_result",
     "data": {
      "text/plain": "[[<selenium.webdriver.remote.webelement.WebElement (session=\"c80c1734ece764661ba0a9617fe07c0a\", element=\"bb24a729-f1ab-4cdf-bf8a-560fe4eaf7b7\")>],\n [<selenium.webdriver.remote.webelement.WebElement (session=\"c80c1734ece764661ba0a9617fe07c0a\", element=\"19fb35cc-1c1d-4d4b-a885-0f9490f19da9\")>],\n [<selenium.webdriver.remote.webelement.WebElement (session=\"c80c1734ece764661ba0a9617fe07c0a\", element=\"a01c7be9-8ce9-4e43-b85b-80cea9213925\")>,\n  <selenium.webdriver.remote.webelement.WebElement (session=\"c80c1734ece764661ba0a9617fe07c0a\", element=\"1683229d-ca49-43d0-8010-ff704e638e97\")>],\n []]"
     },
     "metadata": {},
     "execution_count": 105
    }
   ],
   "source": [
    "a\n",
    "\n",
    "i = 0; a = [];\n",
    "n = 4;\n",
    "while i < n:\n",
    "    xpath = '//*[@id=\"col' + str(i) + '\"]'\n",
    "    i += 1\n",
    "    test = driver.find_elements_by_xpath(xpath)\n",
    "    a.append(test)\n",
    "    # num_page_items = len(test)\n",
    "    # for i in range(num_page_items):\n",
    "    #     a.append(test[i].text)\n",
    "        # print(test[i].text)"
   ]
  },
  {
   "cell_type": "code",
   "execution_count": 85,
   "metadata": {},
   "outputs": [
    {
     "output_type": "execute_result",
     "data": {
      "text/plain": "'//*[@id=\"col0\"]'"
     },
     "metadata": {},
     "execution_count": 85
    }
   ],
   "source": [
    "xpath = '//*[@id=\"col' + str(i) + '\"]'\n",
    "xpath"
   ]
  },
  {
   "cell_type": "code",
   "execution_count": 72,
   "metadata": {},
   "outputs": [
    {
     "output_type": "execute_result",
     "data": {
      "text/plain": "[0, 1, 2, 3]"
     },
     "metadata": {},
     "execution_count": 72
    }
   ],
   "source": [
    "n = int(input(\"Enter the number of fields in target table: \")); i = 0; a = [];\n",
    "\n",
    "while i < n:\n",
    "     a.append(i)\n",
    "     i += 1\n",
    "a"
   ]
  },
  {
   "cell_type": "code",
   "execution_count": null,
   "metadata": {},
   "outputs": [],
   "source": [
    "from bs4 import BeautifulSoup\n",
    "from urllib.request import urlopen\n",
    "import pandas as pd\n",
    "import numpy as np\n",
    "import requests\n",
    "\n",
    "from selenium import webdriver\n",
    "url = \"https://data.bls.gov/cgi-bin/surveymost?bls\"\n",
    "   \n",
    "# Open up a Chrome browser and navigate to web page.\n",
    "options = webdriver.ChromeOptions()\n",
    "options.add_argument('--ignore-certificate-errors')\n",
    "options.add_argument('--incognito')\n",
    "options.add_argument('--headless') # will run without opening browser.\n",
    "driver = webdriver.Chrome(r\"C:\\Users\\Andrew Hicks\\Documents\\Analytics\\GitHub\\WebScrapes\\WebScrapes\\chromedriver\", chrome_options=options)\n",
    "driver.get(url)\n",
    "\n",
    "driver.find_element_by_xpath(\"//input[@type='checkbox' and @value = 'CIU1010000000000A']\").click()\n",
    "driver.find_element_by_xpath(\"//input[@type='Submit' and @value = 'Retrieve data']\").click()\n",
    "i = 0\n",
    "main_content = BeautifulSoup(urlopen(url).read()).find_all('body')\n",
    "xpath = '//*[@id=\"col' + str(i) + '\"]'\n",
    "test = driver.find_elements_by_xpath(xpath)\n",
    "print(test.text)\n",
    "# i = 0; a = [];\n",
    "# n = 4;\n",
    "# while i < n:\n",
    "#     xpath = '//*[@id=\"col' + str(i) + '\"]'\n",
    "#     i += 1\n",
    "#     test = driver.find_elements_by_xpath(xpath)\n",
    "#     print(test)\n",
    "    # a.append(test)\n",
    "    # num_page_items = len(test)\n",
    "    # for i in range(num_page_items):\n",
    "    #     a.append(test[i].text)\n",
    "        # print(test[i].text)\n",
    "\n",
    "\n",
    "\n",
    "\n",
    "# Clean up (close browser once completed task).\n",
    "driver.close()"
   ]
  },
  {
   "cell_type": "code",
   "execution_count": null,
   "metadata": {},
   "outputs": [],
   "source": []
  },
  {
   "cell_type": "code",
   "execution_count": 77,
   "metadata": {},
   "outputs": [
    {
     "output_type": "stream",
     "name": "stdout",
     "text": "Unnamed: 0  \\\n0                                                2009   \n1                                                2009   \n2                                                2009   \n3                                                2009   \n4                                                2010   \n5                                                2010   \n6                                                2010   \n7                                                2010   \n8                                                2011   \n9                                                2011   \n10                                               2011   \n11                                               2011   \n12                                               2012   \n13                                               2012   \n14                                               2012   \n15                                               2012   \n16                                               2013   \n17                                               2013   \n18                                               2013   \n19                                               2013   \n20                                               2014   \n21                                               2014   \n22                                               2014   \n23                                               2014   \n24                                               2015   \n25                                               2015   \n26                                               2015   \n27                                               2015   \n28                                               2016   \n29                                               2016   \n30                                               2016   \n31                                               2016   \n32                                               2017   \n33                                               2017   \n34                                               2017   \n35                                               2017   \n36                                               2018   \n37                                               2018   \n38                                               2018   \n39                                               2018   \n40                                               2019   \n41                                               2019   \n42                                               2019   \n43                                               2019   \n44  B : Includes wages, salaries, and employer cos...   \n\n                                           Unnamed: 1  \\\n0                                                Qtr1   \n1                                                Qtr2   \n2                                                Qtr3   \n3                                                Qtr4   \n4                                                Qtr1   \n5                                                Qtr2   \n6                                                Qtr3   \n7                                                Qtr4   \n8                                                Qtr1   \n9                                                Qtr2   \n10                                               Qtr3   \n11                                               Qtr4   \n12                                               Qtr1   \n13                                               Qtr2   \n14                                               Qtr3   \n15                                               Qtr4   \n16                                               Qtr1   \n17                                               Qtr2   \n18                                               Qtr3   \n19                                               Qtr4   \n20                                               Qtr1   \n21                                               Qtr2   \n22                                               Qtr3   \n23                                               Qtr4   \n24                                               Qtr1   \n25                                               Qtr2   \n26                                               Qtr3   \n27                                               Qtr4   \n28                                               Qtr1   \n29                                               Qtr2   \n30                                               Qtr3   \n31                                               Qtr4   \n32                                               Qtr1   \n33                                               Qtr2   \n34                                               Qtr3   \n35                                               Qtr4   \n36                                               Qtr1   \n37                                               Qtr2   \n38                                               Qtr3   \n39                                               Qtr4   \n40                                               Qtr1   \n41                                               Qtr2   \n42                                               Qtr3   \n43                                               Qtr4   \n44  B : Includes wages, salaries, and employer cos...   \n\n                                       Estimate Value  \\\n0                                                 1.9   \n1                                                 1.5   \n2                                                 1.2   \n3                                                 1.2   \n4                                                 1.6   \n5                                                 1.9   \n6                                                 2.0   \n7                                                 2.1   \n8                                                 2.0   \n9                                                 2.3   \n10                                                2.1   \n11                                                2.2   \n12                                                2.1   \n13                                                1.8   \n14                                                1.9   \n15                                                1.8   \n16                                                1.9   \n17                                                1.9   \n18                                                1.9   \n19                                                2.0   \n20                                                1.7   \n21                                                2.0   \n22                                                2.3   \n23                                                2.3   \n24                                                2.8   \n25                                                1.9   \n26                                                1.9   \n27                                                1.9   \n28                                                1.8   \n29                                                2.4   \n30                                                2.3   \n31                                                2.2   \n32                                                2.3   \n33                                                2.4   \n34                                                2.5   \n35                                                2.6   \n36                                                2.8   \n37                                                2.9   \n38                                                2.9   \n39                                                3.0   \n40                                                2.8   \n41                                                2.6   \n42                                                2.7   \n43                                                2.7   \n44  B : Includes wages, salaries, and employer cos...   \n\n                                       Standard Error  \n0                                                 0.2  \n1                                                 0.2  \n2                                                 0.2  \n3                                                 0.1  \n4                                                 0.1  \n5                                                 0.1  \n6                                                 0.1  \n7                                                 0.1  \n8                                                 0.1  \n9                                                 0.1  \n10                                                0.1  \n11                                                0.1  \n12                                                0.1  \n13                                                0.2  \n14                                                0.2  \n15                                                0.2  \n16                                                0.2  \n17                                                0.1  \n18                                                0.1  \n19                                                0.2  \n20                                                0.2  \n21                                                0.2  \n22                                                0.1  \n23                                                0.2  \n24                                                0.3  \n25                                                0.2  \n26                                                0.2  \n27                                                0.1  \n28                                                0.2  \n29                                                0.2  \n30                                                0.1  \n31                                                0.1  \n32                                                0.2  \n33                                                0.2  \n34                                                0.1  \n35                                                0.1  \n36                                                0.1  \n37                                                0.1  \n38                                                0.2  \n39                                                0.2  \n40                                                0.2  \n41                                                0.2  \n42                                                0.1  \n43                                                0.1  \n44  B : Includes wages, salaries, and employer cos...  \n"
    }
   ],
   "source": [
    "import requests\n",
    "import pandas as pd\n",
    "\n",
    "data = {\n",
    "    \"series_id\": \"CIU2010000000000A\",\n",
    "    \"survey\": \"bls\",\n",
    "    \"format\": \"\",\n",
    "    \"html_tables\": \"\",\n",
    "    \"delimiter\": \"\",\n",
    "    \"catalog\": \"\",\n",
    "    \"print_line_length\": \"\",\n",
    "    \"lines_per_page\": \"\",\n",
    "    \"row_stub_key\": \"\",\n",
    "    \"year\": \"\",\n",
    "    \"date\": \"\",\n",
    "    \"net_change_start\": \"\",\n",
    "    \"net_change_end\": \"\",\n",
    "    \"percent_change_start\": \"\",\n",
    "    \"percent_change_end\": \"\"\n",
    "}\n",
    "\n",
    "\n",
    "def main(url):\n",
    "    r = requests.post(url, data=data)\n",
    "    df = pd.read_html(r.content)[1]\n",
    "    print(df)\n",
    "\n",
    "\n",
    "main(\"https://data.bls.gov/cgi-bin/surveymost\")"
   ]
  },
  {
   "cell_type": "code",
   "execution_count": null,
   "metadata": {},
   "outputs": [],
   "source": []
  }
 ],
 "metadata": {
  "language_info": {
   "codemirror_mode": {
    "name": "ipython",
    "version": 3
   },
   "file_extension": ".py",
   "mimetype": "text/x-python",
   "name": "python",
   "nbconvert_exporter": "python",
   "pygments_lexer": "ipython3",
   "version": "3.7.6-final"
  },
  "orig_nbformat": 2,
  "kernelspec": {
   "name": "python37464bitandrewhicksvirtualenvb486e185a75b458ea1d520c1feb759ee",
   "display_name": "Python 3.7.4 64-bit ('Andrew Hicks': virtualenv)"
  }
 },
 "nbformat": 4,
 "nbformat_minor": 2
}