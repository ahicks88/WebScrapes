{
 "cells": [
  {
   "cell_type": "code",
   "execution_count": 1,
   "metadata": {},
   "outputs": [
    {
     "output_type": "stream",
     "name": "stdout",
     "text": "Unnamed: 0  \\\n0                                                2010   \n1                                                2011   \n2                                                2012   \n3                                                2013   \n4                                                2014   \n5                                                2015   \n6                                                2016   \n7                                                2017   \n8                                                2018   \n9                                                2019   \n10                                               2020   \n11  1 : Data affected by changes in population con...   \n\n                                                  Jan  \\\n0                                           153484(1)   \n1                                           153263(1)   \n2                                           154381(1)   \n3                                           155763(1)   \n4                                           155352(1)   \n5                                           157030(1)   \n6                                           158342(1)   \n7                                           159647(1)   \n8                                           161068(1)   \n9                                           163142(1)   \n10                                          164606(1)   \n11  1 : Data affected by changes in population con...   \n\n                                                  Feb  \\\n0                                              153694   \n1                                              153214   \n2                                              154671   \n3                                              155312   \n4                                              155483   \n5                                              156644   \n6                                              158653   \n7                                              159767   \n8                                              161783   \n9                                              163047   \n10                                             164546   \n11  1 : Data affected by changes in population con...   \n\n                                                  Mar  \\\n0                                              153954   \n1                                              153376   \n2                                              154749   \n3                                              155005   \n4                                              156028   \n5                                              156643   \n6                                              159103   \n7                                              160066   \n8                                              161684   \n9                                              162935   \n10                                             162913   \n11  1 : Data affected by changes in population con...   \n\n                                                  Apr  \\\n0                                              154622   \n1                                              153543   \n2                                              154545   \n3                                              155394   \n4                                              155369   \n5                                              157060   \n6                                              158981   \n7                                              160309   \n8                                              161742   \n9                                              162546   \n10                                                NaN   \n11  1 : Data affected by changes in population con...   \n\n                                                  May  \\\n0                                              154091   \n1                                              153479   \n2                                              154866   \n3                                              155536   \n4                                              155684   \n5                                              157651   \n6                                              158787   \n7                                              160060   \n8                                              161874   \n9                                              162782   \n10                                                NaN   \n11  1 : Data affected by changes in population con...   \n\n                                                  Jun  \\\n0                                              153616   \n1                                              153346   \n2                                              155083   \n3                                              155749   \n4                                              155707   \n5                                              157062   \n6                                              158973   \n7                                              160232   \n8                                              162269   \n9                                              163133   \n10                                                NaN   \n11  1 : Data affected by changes in population con...   \n\n                                                  Jul  \\\n0                                              153691   \n1                                              153288   \n2                                              154948   \n3                                              155599   \n4                                              156007   \n5                                              156997   \n6                                              159123   \n7                                              160339   \n8                                              162173   \n9                                              163373   \n10                                                NaN   \n11  1 : Data affected by changes in population con...   \n\n                                                  Aug  \\\n0                                              154086   \n1                                              153760   \n2                                              154763   \n3                                              155605   \n4                                              156130   \n5                                              157172   \n6                                              159579   \n7                                              160690   \n8                                              161768   \n9                                              163894   \n10                                                NaN   \n11  1 : Data affected by changes in population con...   \n\n                                                  Sep  \\\n0                                              153975   \n1                                              154131   \n2                                              155160   \n3                                              155687   \n4                                              156040   \n5                                              156733   \n6                                              159817   \n7                                              161212   \n8                                              162078   \n9                                              164051   \n10                                                NaN   \n11  1 : Data affected by changes in population con...   \n\n                                                  Oct  \\\n0                                              153635   \n1                                              153961   \n2                                              155554   \n3                                              154673   \n4                                              156417   \n5                                              157167   \n6                                              159734   \n7                                              160378   \n8                                              162605   \n9                                              164401   \n10                                                NaN   \n11  1 : Data affected by changes in population con...   \n\n                                                  Nov  \\\n0                                              154125   \n1                                              154128   \n2                                              155338   \n3                                              155265   \n4                                              156494   \n5                                              157463   \n6                                              159551   \n7                                              160510   \n8                                              162662   \n9                                              164347   \n10                                                NaN   \n11  1 : Data affected by changes in population con...   \n\n                                                  Dec  \\\n0                                              153650   \n1                                              153995   \n2                                              155628   \n3                                              155182   \n4                                              156332   \n5                                              158035   \n6                                              159710   \n7                                              160538   \n8                                              163111   \n9                                              164556   \n10                                                NaN   \n11  1 : Data affected by changes in population con...   \n\n                                          Unnamed: 13  \n0                                                 NaN  \n1                                                 NaN  \n2                                                 NaN  \n3                                                 NaN  \n4                                                 NaN  \n5                                                 NaN  \n6                                                 NaN  \n7                                                 NaN  \n8                                                 NaN  \n9                                                 NaN  \n10                                                NaN  \n11  1 : Data affected by changes in population con...  \n"
    }
   ],
   "source": [
    "import requests\n",
    "import pandas as pd\n",
    "\n",
    "data = {\n",
    "    \"series_id\": \"LNS11000000\",\n",
    "    \"survey\": \"bls\",\n",
    "    \"format\": \"\",\n",
    "    \"html_tables\": \"\",\n",
    "    \"delimiter\": \"\",\n",
    "    \"catalog\": \"\",\n",
    "    \"print_line_length\": \"\",\n",
    "    \"lines_per_page\": \"\",\n",
    "    \"row_stub_key\": \"\",\n",
    "    \"year\": \"\",\n",
    "    \"date\": \"\",\n",
    "    \"net_change_start\": \"\",\n",
    "    \"net_change_end\": \"\",\n",
    "    \"percent_change_start\": \"\",\n",
    "    \"percent_change_end\": \"\"\n",
    "}\n",
    "\n",
    "url = \"https://data.bls.gov/cgi-bin/surveymost\"\n",
    "# def main(url):\n",
    "r = requests.post(url, data=data)\n",
    "df = pd.read_html(r.content)[1]\n",
    "print(df)\n",
    "\n",
    "\n"
   ]
  },
  {
   "cell_type": "code",
   "execution_count": 19,
   "metadata": {},
   "outputs": [
    {
     "output_type": "execute_result",
     "data": {
      "text/plain": "{'user-agent': 'your-own-user-agent/0.0.1'}"
     },
     "metadata": {},
     "execution_count": 19
    }
   ],
   "source": [
    "headers = {'user-agent': 'your-own-user-agent/0.0.1'}\n",
    "req = requests.get(url, headers=headers)\n",
    "headers"
   ]
  },
  {
   "cell_type": "code",
   "execution_count": 26,
   "metadata": {},
   "outputs": [
    {
     "output_type": "error",
     "ename": "IndentationError",
     "evalue": "unindent does not match any outer indentation level (<tokenize>, line 19)",
     "traceback": [
      "\u001b[1;36m  File \u001b[1;32m\"<tokenize>\"\u001b[1;36m, line \u001b[1;32m19\u001b[0m\n\u001b[1;33m    'if 'M01' <= period <= 'M12':'\u001b[0m\n\u001b[1;37m    ^\u001b[0m\n\u001b[1;31mIndentationError\u001b[0m\u001b[1;31m:\u001b[0m unindent does not match any outer indentation level\n"
     ]
    }
   ],
   "source": []
  }
 ],
 "metadata": {
  "language_info": {
   "codemirror_mode": {
    "name": "ipython",
    "version": 3
   },
   "file_extension": ".py",
   "mimetype": "text/x-python",
   "name": "python",
   "nbconvert_exporter": "python",
   "pygments_lexer": "ipython3",
   "version": "3.7.6-final"
  },
  "orig_nbformat": 2,
  "kernelspec": {
   "name": "python37464bitandrewhicksvirtualenvb486e185a75b458ea1d520c1feb759ee",
   "display_name": "Python 3.7.4 64-bit ('Andrew Hicks': virtualenv)"
  }
 },
 "nbformat": 4,
 "nbformat_minor": 2
}