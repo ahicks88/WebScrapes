{
 "cells": [
  {
   "cell_type": "code",
   "execution_count": 3,
   "metadata": {},
   "outputs": [],
   "source": [
    "import cx_Oracle\n",
    "pswd = input(\"Enter your password: \")\n",
    "dsn_tns = cx_Oracle.makedsn(host = 'localhost', port = '1521', sid='ORCL')\n",
    "conn = cx_Oracle.connect(user='BLS', password=pswd, dsn=dsn_tns) \n",
    "c = conn.cursor()"
   ]
  },
  {
   "cell_type": "code",
   "execution_count": 5,
   "metadata": {},
   "outputs": [],
   "source": [
    "def CreateTable():\n",
    "    TableName = (\"TOTAL_NONFARM_EMPLOYMENT_SEASONALLY_ADJUSTED\")\n",
    "    c.execute(\"DROP TABLE {}\".format(TableName))\n",
    "    table_details = (\"Year VARCHAR2(20), JAN VARCHAR2(20), FEB VARCHAR2(20), MAR VARCHAR2(20), APR VARCHAR2(20), MAY VARCHAR2(20), JUN VARCHAR2(20), JUL VARCHAR2(20), AUG VARCHAR2(20), SEP VARCHAR2(20), OCT VARCHAR2(20), NOV VARCHAR2(20), DEC VARCHAR2(20)\")\n",
    "    table_input = \"{}({})\".format(TableName, table_details)\n",
    "    NewTable = c.execute(\"CREATE TABLE {}\".format(table_input))\n",
    "CreateTable()"
   ]
  },
  {
   "cell_type": "code",
   "execution_count": 6,
   "metadata": {},
   "outputs": [],
   "source": [
    "import requests\n",
    "import pandas as pd\n",
    "\n",
    "data = {\n",
    "    \"series_id\" :\t\"CES0000000001\",\n",
    "    \"survey\" :\t\"ce\"\n",
    "    \n",
    "}\n",
    "\n",
    "url = \"https://data.bls.gov/cgi-bin/surveymost\"\n",
    "# def main(url):\n",
    "n = 11\n",
    "r = requests.post(url, data=data)\n",
    "df = pd.read_html(r.content)[1]\n",
    "header = df.iloc[0:0,0:13]\n",
    "data = pd.DataFrame(df.iloc[0:n,0:13])\n",
    "Output = pd.DataFrame(df.iloc[0:n,0:13])\n",
    "# data"
   ]
  },
  {
   "cell_type": "code",
   "execution_count": 7,
   "metadata": {},
   "outputs": [],
   "source": [
    "def InsertRecords():\n",
    "    TableName = (\"TOTAL_NONFARM_EMPLOYMENT_SEASONALLY_ADJUSTED\")\n",
    "    FieldName = (\"Year, JAN, FEB, MAR, APR, MAY, JUN, JUL, AUG, SEP, OCT, NOV, DEC\")\n",
    "    n = len(df.index)-1; x = 0;\n",
    "    for i in range(n):\n",
    "        Values = (\"'\" + \"' ,'\".join(list(str(x) for x in data.values[x])) + \"'\")\n",
    "        Values = Values.replace('(','').replace(')','').replace('P','').replace('n','').replace('a','')\n",
    "        # test.append(Values)\n",
    "        x += 1\n",
    "        c.execute(\"INSERT INTO {}({}) VALUES ({})\".format(TableName, FieldName, Values))\n",
    "        conn.commit()\n",
    "        \n",
    "InsertRecords()"
   ]
  },
  {
   "cell_type": "code",
   "execution_count": null,
   "metadata": {},
   "outputs": [],
   "source": []
  }
 ],
 "metadata": {
  "language_info": {
   "codemirror_mode": {
    "name": "ipython",
    "version": 3
   },
   "file_extension": ".py",
   "mimetype": "text/x-python",
   "name": "python",
   "nbconvert_exporter": "python",
   "pygments_lexer": "ipython3",
   "version": "3.7.6-final"
  },
  "orig_nbformat": 2,
  "kernelspec": {
   "name": "python3",
   "display_name": "Python 3"
  }
 },
 "nbformat": 4,
 "nbformat_minor": 2
}