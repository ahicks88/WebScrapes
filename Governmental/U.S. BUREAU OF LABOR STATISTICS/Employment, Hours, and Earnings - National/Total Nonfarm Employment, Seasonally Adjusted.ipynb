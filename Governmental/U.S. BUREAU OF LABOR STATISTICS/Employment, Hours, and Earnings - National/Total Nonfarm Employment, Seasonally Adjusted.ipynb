{
 "cells": [
  {
   "cell_type": "code",
   "execution_count": 11,
   "metadata": {},
   "outputs": [
    {
     "output_type": "error",
     "ename": "DatabaseError",
     "evalue": "ORA-12170: TNS:Connect timeout occurred",
     "traceback": [
      "\u001b[1;31m---------------------------------------------------------------------------\u001b[0m",
      "\u001b[1;31mDatabaseError\u001b[0m                             Traceback (most recent call last)",
      "\u001b[1;32m<ipython-input-11-2cda80936f70>\u001b[0m in \u001b[0;36m<module>\u001b[1;34m\u001b[0m\n\u001b[0;32m      2\u001b[0m \u001b[0mpswd\u001b[0m \u001b[1;33m=\u001b[0m \u001b[0minput\u001b[0m\u001b[1;33m(\u001b[0m\u001b[1;34m\"Enter your password: \"\u001b[0m\u001b[1;33m)\u001b[0m\u001b[1;33m\u001b[0m\u001b[1;33m\u001b[0m\u001b[0m\n\u001b[0;32m      3\u001b[0m \u001b[0mdsn_tns\u001b[0m \u001b[1;33m=\u001b[0m \u001b[0mcx_Oracle\u001b[0m\u001b[1;33m.\u001b[0m\u001b[0mmakedsn\u001b[0m\u001b[1;33m(\u001b[0m\u001b[1;34m'10.0.0.210'\u001b[0m\u001b[1;33m,\u001b[0m \u001b[1;34m'1521'\u001b[0m\u001b[1;33m,\u001b[0m \u001b[0mservice_name\u001b[0m\u001b[1;33m=\u001b[0m\u001b[1;34m'XE'\u001b[0m\u001b[1;33m)\u001b[0m\u001b[1;33m\u001b[0m\u001b[1;33m\u001b[0m\u001b[0m\n\u001b[1;32m----> 4\u001b[1;33m \u001b[0mconn\u001b[0m \u001b[1;33m=\u001b[0m \u001b[0mcx_Oracle\u001b[0m\u001b[1;33m.\u001b[0m\u001b[0mconnect\u001b[0m\u001b[1;33m(\u001b[0m\u001b[0muser\u001b[0m\u001b[1;33m=\u001b[0m\u001b[1;34mr'ahicks88'\u001b[0m\u001b[1;33m,\u001b[0m \u001b[0mpassword\u001b[0m\u001b[1;33m=\u001b[0m\u001b[0mpswd\u001b[0m\u001b[1;33m,\u001b[0m \u001b[0mdsn\u001b[0m\u001b[1;33m=\u001b[0m\u001b[0mdsn_tns\u001b[0m\u001b[1;33m)\u001b[0m\u001b[1;33m\u001b[0m\u001b[1;33m\u001b[0m\u001b[0m\n\u001b[0m\u001b[0;32m      5\u001b[0m \u001b[0mc\u001b[0m \u001b[1;33m=\u001b[0m \u001b[0mconn\u001b[0m\u001b[1;33m.\u001b[0m\u001b[0mcursor\u001b[0m\u001b[1;33m(\u001b[0m\u001b[1;33m)\u001b[0m\u001b[1;33m\u001b[0m\u001b[1;33m\u001b[0m\u001b[0m\n",
      "\u001b[1;31mDatabaseError\u001b[0m: ORA-12170: TNS:Connect timeout occurred"
     ]
    }
   ],
   "source": [
    "import cx_Oracle\n",
    "pswd = input(\"Enter your password: \")\n",
    "dsn_tns = cx_Oracle.makedsn('10.0.0.210', '1521', service_name='XE')\n",
    "conn = cx_Oracle.connect(user=r'ahicks88', password=pswd, dsn=dsn_tns) \n",
    "c = conn.cursor()"
   ]
  },
  {
   "cell_type": "code",
   "execution_count": null,
   "metadata": {},
   "outputs": [],
   "source": [
    "def CreateTable():\n",
    "    TableName = input(\"Enter a table name: \")\n",
    "    table_details = (\"Year (VARCHAR2), JAN (VARCHAR2)\")\n",
    "    table_input = \"{}({})\".format(TableName, table_details)\n",
    "    NewTable = c.execute(\"CREATE TABLE {}\".format(table_input))\n",
    "# CreateTable()"
   ]
  },
  {
   "cell_type": "code",
   "execution_count": null,
   "metadata": {},
   "outputs": [],
   "source": [
    "def InsertRecords():\n",
    "    TableName = input(\"Enter a table name: \")\n",
    "    FieldName = input(\"Enter field names: \")\n",
    "    Values = input(\"Enter values: \")\n",
    "    c.execute(\"INSERT INTO {}({}) VALUES ({})\".format(TableName, FieldName, Values))\n",
    "    conn.commit()\n",
    "InsertRecords()"
   ]
  },
  {
   "cell_type": "code",
   "execution_count": 10,
   "metadata": {},
   "outputs": [
    {
     "output_type": "execute_result",
     "data": {
      "text/plain": "   Unnamed: 0     Jan        Feb        Mar     Apr     May     Jun     Jul  \\\n0        2010  129790     129698     129879  130110  130650  130511  130427   \n1        2011  130841     131053     131288  131602  131703  131939  131999   \n2        2012  133250     133512     133752  133834  133934  134007  134159   \n3        2013  135263     135541     135680  135871  136093  136274  136386   \n4        2014  137548     137714     137968  138293  138511  138837  139069   \n5        2015  140568     140839     140910  141194  141525  141699  142001   \n6        2016  143170     143433     143662  143849  143891  144158  144512   \n7        2017  145627     145815     145944  146141  146296  146512  146727   \n8        2018  147672     148078     148254  148391  148669  148888  149024   \n9        2019  150134     150135     150282  150492  150577  150759  150953   \n10       2020  152212  152487(P)  151786(P)     NaN     NaN     NaN     NaN   \n\n       Aug     Sep     Oct     Nov     Dec  \n0   130422  130357  130625  130750  130822  \n1   132125  132358  132562  132694  132896  \n2   134331  134518  134677  134833  135072  \n3   136628  136815  137040  137304  137373  \n4   139257  139566  139818  140109  140377  \n5   142126  142281  142587  142824  143097  \n6   144647  144916  145061  145212  145442  \n7   146911  146929  147196  147421  147551  \n8   149268  149348  149549  149683  149865  \n9   151160  151368  151553  151814  151998  \n10     NaN     NaN     NaN     NaN     NaN  ",
      "text/html": "<div>\n<style scoped>\n    .dataframe tbody tr th:only-of-type {\n        vertical-align: middle;\n    }\n\n    .dataframe tbody tr th {\n        vertical-align: top;\n    }\n\n    .dataframe thead th {\n        text-align: right;\n    }\n</style>\n<table border=\"1\" class=\"dataframe\">\n  <thead>\n    <tr style=\"text-align: right;\">\n      <th></th>\n      <th>Unnamed: 0</th>\n      <th>Jan</th>\n      <th>Feb</th>\n      <th>Mar</th>\n      <th>Apr</th>\n      <th>May</th>\n      <th>Jun</th>\n      <th>Jul</th>\n      <th>Aug</th>\n      <th>Sep</th>\n      <th>Oct</th>\n      <th>Nov</th>\n      <th>Dec</th>\n    </tr>\n  </thead>\n  <tbody>\n    <tr>\n      <th>0</th>\n      <td>2010</td>\n      <td>129790</td>\n      <td>129698</td>\n      <td>129879</td>\n      <td>130110</td>\n      <td>130650</td>\n      <td>130511</td>\n      <td>130427</td>\n      <td>130422</td>\n      <td>130357</td>\n      <td>130625</td>\n      <td>130750</td>\n      <td>130822</td>\n    </tr>\n    <tr>\n      <th>1</th>\n      <td>2011</td>\n      <td>130841</td>\n      <td>131053</td>\n      <td>131288</td>\n      <td>131602</td>\n      <td>131703</td>\n      <td>131939</td>\n      <td>131999</td>\n      <td>132125</td>\n      <td>132358</td>\n      <td>132562</td>\n      <td>132694</td>\n      <td>132896</td>\n    </tr>\n    <tr>\n      <th>2</th>\n      <td>2012</td>\n      <td>133250</td>\n      <td>133512</td>\n      <td>133752</td>\n      <td>133834</td>\n      <td>133934</td>\n      <td>134007</td>\n      <td>134159</td>\n      <td>134331</td>\n      <td>134518</td>\n      <td>134677</td>\n      <td>134833</td>\n      <td>135072</td>\n    </tr>\n    <tr>\n      <th>3</th>\n      <td>2013</td>\n      <td>135263</td>\n      <td>135541</td>\n      <td>135680</td>\n      <td>135871</td>\n      <td>136093</td>\n      <td>136274</td>\n      <td>136386</td>\n      <td>136628</td>\n      <td>136815</td>\n      <td>137040</td>\n      <td>137304</td>\n      <td>137373</td>\n    </tr>\n    <tr>\n      <th>4</th>\n      <td>2014</td>\n      <td>137548</td>\n      <td>137714</td>\n      <td>137968</td>\n      <td>138293</td>\n      <td>138511</td>\n      <td>138837</td>\n      <td>139069</td>\n      <td>139257</td>\n      <td>139566</td>\n      <td>139818</td>\n      <td>140109</td>\n      <td>140377</td>\n    </tr>\n    <tr>\n      <th>5</th>\n      <td>2015</td>\n      <td>140568</td>\n      <td>140839</td>\n      <td>140910</td>\n      <td>141194</td>\n      <td>141525</td>\n      <td>141699</td>\n      <td>142001</td>\n      <td>142126</td>\n      <td>142281</td>\n      <td>142587</td>\n      <td>142824</td>\n      <td>143097</td>\n    </tr>\n    <tr>\n      <th>6</th>\n      <td>2016</td>\n      <td>143170</td>\n      <td>143433</td>\n      <td>143662</td>\n      <td>143849</td>\n      <td>143891</td>\n      <td>144158</td>\n      <td>144512</td>\n      <td>144647</td>\n      <td>144916</td>\n      <td>145061</td>\n      <td>145212</td>\n      <td>145442</td>\n    </tr>\n    <tr>\n      <th>7</th>\n      <td>2017</td>\n      <td>145627</td>\n      <td>145815</td>\n      <td>145944</td>\n      <td>146141</td>\n      <td>146296</td>\n      <td>146512</td>\n      <td>146727</td>\n      <td>146911</td>\n      <td>146929</td>\n      <td>147196</td>\n      <td>147421</td>\n      <td>147551</td>\n    </tr>\n    <tr>\n      <th>8</th>\n      <td>2018</td>\n      <td>147672</td>\n      <td>148078</td>\n      <td>148254</td>\n      <td>148391</td>\n      <td>148669</td>\n      <td>148888</td>\n      <td>149024</td>\n      <td>149268</td>\n      <td>149348</td>\n      <td>149549</td>\n      <td>149683</td>\n      <td>149865</td>\n    </tr>\n    <tr>\n      <th>9</th>\n      <td>2019</td>\n      <td>150134</td>\n      <td>150135</td>\n      <td>150282</td>\n      <td>150492</td>\n      <td>150577</td>\n      <td>150759</td>\n      <td>150953</td>\n      <td>151160</td>\n      <td>151368</td>\n      <td>151553</td>\n      <td>151814</td>\n      <td>151998</td>\n    </tr>\n    <tr>\n      <th>10</th>\n      <td>2020</td>\n      <td>152212</td>\n      <td>152487(P)</td>\n      <td>151786(P)</td>\n      <td>NaN</td>\n      <td>NaN</td>\n      <td>NaN</td>\n      <td>NaN</td>\n      <td>NaN</td>\n      <td>NaN</td>\n      <td>NaN</td>\n      <td>NaN</td>\n      <td>NaN</td>\n    </tr>\n  </tbody>\n</table>\n</div>"
     },
     "metadata": {},
     "execution_count": 10
    }
   ],
   "source": [
    "import requests\n",
    "import pandas as pd\n",
    "\n",
    "data = {\n",
    "    \"series_id\" :\t\"CES0000000001\",\n",
    "    \"survey\" :\t\"ce\"\n",
    "    \n",
    "}\n",
    "\n",
    "url = \"https://data.bls.gov/cgi-bin/surveymost\"\n",
    "# def main(url):\n",
    "r = requests.post(url, data=data)\n",
    "df = pd.read_html(r.content)[1]\n",
    "Output = pd.DataFrame(df.iloc[0:11,0:13])\n",
    "Output"
   ]
  }
 ],
 "metadata": {
  "language_info": {
   "codemirror_mode": {
    "name": "ipython",
    "version": 3
   },
   "file_extension": ".py",
   "mimetype": "text/x-python",
   "name": "python",
   "nbconvert_exporter": "python",
   "pygments_lexer": "ipython3",
   "version": "3.7.6-final"
  },
  "orig_nbformat": 2,
  "kernelspec": {
   "name": "python37464bitandrewhicksvirtualenvb486e185a75b458ea1d520c1feb759ee",
   "display_name": "Python 3.7.4 64-bit ('Andrew Hicks': virtualenv)"
  }
 },
 "nbformat": 4,
 "nbformat_minor": 2
}