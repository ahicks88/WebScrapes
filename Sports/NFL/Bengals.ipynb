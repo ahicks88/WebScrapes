{
 "cells": [
  {
   "cell_type": "code",
   "execution_count": null,
   "metadata": {},
   "outputs": [],
   "source": [
    "from bs4 import BeautifulSoup\n",
    "from urllib.request import urlopen\n",
    "import pandas as pd\n",
    "import numpy as np\n",
    "\n",
    "# Team Stats and Rankings\n",
    "url = r\"https://www.pro-football-reference.com/teams/cin/2019.htm\"\n",
    "table_data = BeautifulSoup(urlopen(url).read(), \"lxml\").find_all(\"table\", class_='stats_table')\n",
    "table1 = table_data[0] \n",
    "\n",
    "header = table1.find_all(scope=\"col\")\n",
    "table_head = []\n",
    "for row in header:\n",
    "    row_values = [value.string for value in header]  \n",
    "    table_head.append(row_values)\n",
    "table_head = table_head[0]\n",
    "\n",
    "rows = table1.find_all(\"td\")\n",
    "table_data = []\n",
    "for row in rows:\n",
    "    row_values = [value.string for value in rows]  \n",
    "    table_data.append(row_values)\n",
    "table_data = table_data[1]\n",
    "\n",
    "head = table_head[0:30]\n",
    "row1 = table_data[0:30]\n",
    "row2 = table_data[30:60]\n",
    "row3 = table_data[60:90]\n",
    "row4 = table_data[90:120]\n",
    "\n",
    "df2 = pd.DataFrame([row1,row2,row3,row4])\n",
    "df2.columns =[head] \n",
    "df2"
   ]
  }
 ],
 "metadata": {
  "language_info": {
   "codemirror_mode": {
    "name": "ipython",
    "version": 3
   },
   "file_extension": ".py",
   "mimetype": "text/x-python",
   "name": "python",
   "nbconvert_exporter": "python",
   "pygments_lexer": "ipython3",
   "version": 3
  },
  "orig_nbformat": 2
 },
 "nbformat": 4,
 "nbformat_minor": 2
}