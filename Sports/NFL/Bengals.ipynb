{
 "cells": [
  {
   "cell_type": "code",
   "execution_count": 2,
   "metadata": {},
   "outputs": [],
   "source": [
    "import cx_Oracle\n",
    "pswd = input(\"Enter your password: \")\n",
    "dsn_tns = cx_Oracle.makedsn('10.0.0.210', '1521', service_name='XE')\n",
    "conn = cx_Oracle.connect(user=r'ahicks88', password=pswd, dsn=dsn_tns) \n",
    "c = conn.cursor()"
   ]
  },
  {
   "cell_type": "code",
   "execution_count": 155,
   "metadata": {},
   "outputs": [
    {
     "output_type": "execute_result",
     "data": {
      "text/plain": "  Player    PF   Yds   Ply Y/P  TO   FL  1stD  Cmp   Att  ...   Pen   Yds  \\\n0    279  5169  1049   4.9  30  14  312   356  616  3652  ...   761    36   \n1    420  6299  1034   6.1  16   5  328   308  499  3917  ...   988    21   \n2     30    26  None  None  27  28   24  None    6    19  ...  None  None   \n3     25    29  None  None  28  30   17  None    2    21  ...  None  None   \n\n  1stPy   #Dr   Sc%       TO% Start  Time Plays   Yds  \n0   175  30.3  16.0  Own 27.8  2:38  5.97  29.0  1.53  \n1   181  39.8   8.8  Own 27.9  2:43   5.8  34.4  2.12  \n2  None    27     5        20    19    12    24    29  \n3  None     8    27        12    18    15    28    22  \n\n[4 rows x 30 columns]",
      "text/html": "<div>\n<style scoped>\n    .dataframe tbody tr th:only-of-type {\n        vertical-align: middle;\n    }\n\n    .dataframe tbody tr th {\n        vertical-align: top;\n    }\n\n    .dataframe thead tr th {\n        text-align: left;\n    }\n</style>\n<table border=\"1\" class=\"dataframe\">\n  <thead>\n    <tr>\n      <th></th>\n      <th>Player</th>\n      <th>PF</th>\n      <th>Yds</th>\n      <th>Ply</th>\n      <th>Y/P</th>\n      <th>TO</th>\n      <th>FL</th>\n      <th>1stD</th>\n      <th>Cmp</th>\n      <th>Att</th>\n      <th>...</th>\n      <th>Pen</th>\n      <th>Yds</th>\n      <th>1stPy</th>\n      <th>#Dr</th>\n      <th>Sc%</th>\n      <th>TO%</th>\n      <th>Start</th>\n      <th>Time</th>\n      <th>Plays</th>\n      <th>Yds</th>\n    </tr>\n  </thead>\n  <tbody>\n    <tr>\n      <th>0</th>\n      <td>279</td>\n      <td>5169</td>\n      <td>1049</td>\n      <td>4.9</td>\n      <td>30</td>\n      <td>14</td>\n      <td>312</td>\n      <td>356</td>\n      <td>616</td>\n      <td>3652</td>\n      <td>...</td>\n      <td>761</td>\n      <td>36</td>\n      <td>175</td>\n      <td>30.3</td>\n      <td>16.0</td>\n      <td>Own 27.8</td>\n      <td>2:38</td>\n      <td>5.97</td>\n      <td>29.0</td>\n      <td>1.53</td>\n    </tr>\n    <tr>\n      <th>1</th>\n      <td>420</td>\n      <td>6299</td>\n      <td>1034</td>\n      <td>6.1</td>\n      <td>16</td>\n      <td>5</td>\n      <td>328</td>\n      <td>308</td>\n      <td>499</td>\n      <td>3917</td>\n      <td>...</td>\n      <td>988</td>\n      <td>21</td>\n      <td>181</td>\n      <td>39.8</td>\n      <td>8.8</td>\n      <td>Own 27.9</td>\n      <td>2:43</td>\n      <td>5.8</td>\n      <td>34.4</td>\n      <td>2.12</td>\n    </tr>\n    <tr>\n      <th>2</th>\n      <td>30</td>\n      <td>26</td>\n      <td>None</td>\n      <td>None</td>\n      <td>27</td>\n      <td>28</td>\n      <td>24</td>\n      <td>None</td>\n      <td>6</td>\n      <td>19</td>\n      <td>...</td>\n      <td>None</td>\n      <td>None</td>\n      <td>None</td>\n      <td>27</td>\n      <td>5</td>\n      <td>20</td>\n      <td>19</td>\n      <td>12</td>\n      <td>24</td>\n      <td>29</td>\n    </tr>\n    <tr>\n      <th>3</th>\n      <td>25</td>\n      <td>29</td>\n      <td>None</td>\n      <td>None</td>\n      <td>28</td>\n      <td>30</td>\n      <td>17</td>\n      <td>None</td>\n      <td>2</td>\n      <td>21</td>\n      <td>...</td>\n      <td>None</td>\n      <td>None</td>\n      <td>None</td>\n      <td>8</td>\n      <td>27</td>\n      <td>12</td>\n      <td>18</td>\n      <td>15</td>\n      <td>28</td>\n      <td>22</td>\n    </tr>\n  </tbody>\n</table>\n<p>4 rows × 30 columns</p>\n</div>"
     },
     "metadata": {},
     "execution_count": 155
    }
   ],
   "source": [
    "from bs4 import BeautifulSoup\n",
    "from urllib.request import urlopen\n",
    "import pandas as pd\n",
    "import numpy as np\n",
    "\n",
    "# Team Stats and Rankings\n",
    "url = r\"https://www.pro-football-reference.com/teams/cin/2019.htm\"\n",
    "table_data = BeautifulSoup(urlopen(url).read(), \"lxml\").find_all(\"table\", class_='stats_table')\n",
    "table1 = table_data[0] \n",
    "\n",
    "overhead = table1.find_all(class_=\"over_header\")\n",
    "table_overhead = []\n",
    "for row in overhead:\n",
    "    row_values = [value.string for value in overhead]  \n",
    "    table_overhead.append(row_values)\n",
    "table_overhead = table_overhead[0]\n",
    "\n",
    "header = table1.find_all(scope=\"col\")\n",
    "table_head = []\n",
    "for row in header:\n",
    "    row_values = [value.string for value in header]  \n",
    "    table_head.append(row_values)\n",
    "table_head = table_head[0]\n",
    "\n",
    "rows = table1.find_all(\"td\")\n",
    "table_data = []\n",
    "for row in rows:\n",
    "    row_values = [value.string for value in rows]  \n",
    "    table_data.append(row_values)\n",
    "table_data = table_data[1]\n",
    "\n",
    "# overhead = table_overhead[0:30]\n",
    "head = table_head[0:30]\n",
    "row1 = table_data[0:30]\n",
    "row2 = table_data[30:60]\n",
    "row3 = table_data[60:90]\n",
    "row4 = table_data[90:120]\n",
    "\n",
    "df2 = pd.DataFrame([row1,row2,row3,row4])\n",
    "df2.columns =[head] \n",
    "df2"
   ]
  },
  {
   "cell_type": "code",
   "execution_count": 156,
   "metadata": {},
   "outputs": [
    {
     "output_type": "execute_result",
     "data": {
      "text/plain": "[None,\n 'Tot Yds & TO',\n 'Passing',\n 'Rushing',\n 'Penalties',\n None,\n 'Average Drive']"
     },
     "metadata": {},
     "execution_count": 156
    }
   ],
   "source": [
    "table_overhead"
   ]
  },
  {
   "cell_type": "code",
   "execution_count": 151,
   "metadata": {},
   "outputs": [
    {
     "output_type": "execute_result",
     "data": {
      "text/plain": "'Player00 DECIMAL (18, 2), PF11 DECIMAL (18, 2), Yds22 DECIMAL (18, 2), Ply33 DECIMAL (18, 2), YP44 DECIMAL (18, 2), TO55 DECIMAL (18, 2), FL66 DECIMAL (18, 2), a_1stD77 DECIMAL (18, 2), Cmp88 DECIMAL (18, 2), Att99 DECIMAL (18, 2), Yds1010 DECIMAL (18, 2), TD1111 DECIMAL (18, 2), Int1212 DECIMAL (18, 2), NYA1313 DECIMAL (18, 2), a_1stD1414 DECIMAL (18, 2), Att1515 DECIMAL (18, 2), Yds1616 DECIMAL (18, 2), TD1717 DECIMAL (18, 2), YA1818 DECIMAL (18, 2), a_1stD1919 DECIMAL (18, 2), Pen2020 DECIMAL (18, 2), Yds2121 DECIMAL (18, 2), a_1stPy2222 DECIMAL (18, 2), Dr2323 DECIMAL (18, 2), Sc2424 DECIMAL (18, 2), TO2525 DECIMAL (18, 2), Start2626 DECIMAL (18, 2), Time2727 DECIMAL (18, 2), Plays2828 DECIMAL (18, 2), Yds2929 DECIMAL (18, 2)'"
     },
     "metadata": {},
     "execution_count": 151
    }
   ],
   "source": [
    "head = [elm + str(index) for index, elm in enumerate(head)]\n",
    "\n",
    "header = \"\"\n",
    "for num in head:\n",
    "    head_item = \"{} DECIMAL (18, 2), \".format(num)\n",
    "    if head_item[0].isdigit() == True:\n",
    "        header += \"a_\" + head_item\n",
    "    else:\n",
    "        header += head_item\n",
    "header   \n",
    "\n",
    "# initializing bad_chars_list \n",
    "bad_chars = [';', ':', '!', \"*\",\"/\",\"#\",\"%\"] \n",
    "\n",
    "# remove bad_chars  \n",
    "for i in bad_chars : \n",
    "    header = header.replace(i, '') \n",
    "header = header[:-2]\n",
    "header"
   ]
  },
  {
   "cell_type": "code",
   "execution_count": 152,
   "metadata": {},
   "outputs": [],
   "source": [
    "c.execute(\"CREATE TABLE BEN100({})\".format(header))"
   ]
  },
  {
   "cell_type": "code",
   "execution_count": 19,
   "metadata": {},
   "outputs": [
    {
     "output_type": "stream",
     "name": "stdout",
     "text": "Player number,\nPF number,\nYds number,\nPly number,\nY/P number,\nTO number,\nFL number,\n1stD number,\nCmp number,\nAtt number,\nYds number,\nTD number,\nInt number,\nNY/A number,\n1stD number,\nAtt number,\nYds number,\nTD number,\nY/A number,\n1stD number,\nPen number,\nYds number,\n1stPy number,\n#Dr number,\nSc% number,\nTO% number,\nStart number,\nTime number,\nPlays number,\nYds number,\n"
    },
    {
     "output_type": "error",
     "ename": "DatabaseError",
     "evalue": "ORA-02263: need to specify the datatype for this column",
     "traceback": [
      "\u001b[1;31m---------------------------------------------------------------------------\u001b[0m",
      "\u001b[1;31mDatabaseError\u001b[0m                             Traceback (most recent call last)",
      "\u001b[1;32m<ipython-input-19-371c19521df4>\u001b[0m in \u001b[0;36m<module>\u001b[1;34m\u001b[0m\n\u001b[0;32m      4\u001b[0m     \u001b[0mtable_input\u001b[0m \u001b[1;33m=\u001b[0m \u001b[1;34m\"{}({})\"\u001b[0m\u001b[1;33m.\u001b[0m\u001b[0mformat\u001b[0m\u001b[1;33m(\u001b[0m\u001b[0mTableName\u001b[0m\u001b[1;33m,\u001b[0m \u001b[0mtable_details\u001b[0m\u001b[1;33m)\u001b[0m\u001b[1;33m\u001b[0m\u001b[1;33m\u001b[0m\u001b[0m\n\u001b[0;32m      5\u001b[0m     \u001b[0mNewTable\u001b[0m \u001b[1;33m=\u001b[0m \u001b[0mc\u001b[0m\u001b[1;33m.\u001b[0m\u001b[0mexecute\u001b[0m\u001b[1;33m(\u001b[0m\u001b[1;34m\"CREATE TABLE {}\"\u001b[0m\u001b[1;33m.\u001b[0m\u001b[0mformat\u001b[0m\u001b[1;33m(\u001b[0m\u001b[0mtable_input\u001b[0m\u001b[1;33m)\u001b[0m\u001b[1;33m)\u001b[0m\u001b[1;33m\u001b[0m\u001b[1;33m\u001b[0m\u001b[0m\n\u001b[1;32m----> 6\u001b[1;33m \u001b[0mCreateTable\u001b[0m\u001b[1;33m(\u001b[0m\u001b[1;33m)\u001b[0m\u001b[1;33m\u001b[0m\u001b[1;33m\u001b[0m\u001b[0m\n\u001b[0m",
      "\u001b[1;32m<ipython-input-19-371c19521df4>\u001b[0m in \u001b[0;36mCreateTable\u001b[1;34m()\u001b[0m\n\u001b[0;32m      3\u001b[0m     \u001b[0mtable_details\u001b[0m \u001b[1;33m=\u001b[0m \u001b[0mheader\u001b[0m\u001b[1;33m(\u001b[0m\u001b[1;33m)\u001b[0m\u001b[1;33m\u001b[0m\u001b[1;33m\u001b[0m\u001b[0m\n\u001b[0;32m      4\u001b[0m     \u001b[0mtable_input\u001b[0m \u001b[1;33m=\u001b[0m \u001b[1;34m\"{}({})\"\u001b[0m\u001b[1;33m.\u001b[0m\u001b[0mformat\u001b[0m\u001b[1;33m(\u001b[0m\u001b[0mTableName\u001b[0m\u001b[1;33m,\u001b[0m \u001b[0mtable_details\u001b[0m\u001b[1;33m)\u001b[0m\u001b[1;33m\u001b[0m\u001b[1;33m\u001b[0m\u001b[0m\n\u001b[1;32m----> 5\u001b[1;33m     \u001b[0mNewTable\u001b[0m \u001b[1;33m=\u001b[0m \u001b[0mc\u001b[0m\u001b[1;33m.\u001b[0m\u001b[0mexecute\u001b[0m\u001b[1;33m(\u001b[0m\u001b[1;34m\"CREATE TABLE {}\"\u001b[0m\u001b[1;33m.\u001b[0m\u001b[0mformat\u001b[0m\u001b[1;33m(\u001b[0m\u001b[0mtable_input\u001b[0m\u001b[1;33m)\u001b[0m\u001b[1;33m)\u001b[0m\u001b[1;33m\u001b[0m\u001b[1;33m\u001b[0m\u001b[0m\n\u001b[0m\u001b[0;32m      6\u001b[0m \u001b[0mCreateTable\u001b[0m\u001b[1;33m(\u001b[0m\u001b[1;33m)\u001b[0m\u001b[1;33m\u001b[0m\u001b[1;33m\u001b[0m\u001b[0m\n",
      "\u001b[1;31mDatabaseError\u001b[0m: ORA-02263: need to specify the datatype for this column"
     ]
    }
   ],
   "source": [
    "def CreateTable():\n",
    "    TableName = input(\"Enter a table name: \")\n",
    "    table_details = header()\n",
    "    table_input = \"{}({})\".format(TableName, table_details)\n",
    "    NewTable = c.execute(\"CREATE TABLE {}\".format(table_input))\n",
    "CreateTable()"
   ]
  },
  {
   "cell_type": "code",
   "execution_count": null,
   "metadata": {},
   "outputs": [],
   "source": [
    "def InsertRecords():\n",
    "    TableName = input(\"Enter a table name: \")\n",
    "    FieldName = input(\"Enter field names: \")\n",
    "    Values = input(\"Enter values: \")\n",
    "    c.execute(\"INSERT INTO {}({}) VALUES ({})\".format(TableName, FieldName, Values))\n",
    "    conn.commit()\n",
    "InsertRecords()"
   ]
  }
 ],
 "metadata": {
  "language_info": {
   "codemirror_mode": {
    "name": "ipython",
    "version": 3
   },
   "file_extension": ".py",
   "mimetype": "text/x-python",
   "name": "python",
   "nbconvert_exporter": "python",
   "pygments_lexer": "ipython3",
   "version": "3.7.6-final"
  },
  "orig_nbformat": 2,
  "kernelspec": {
   "name": "python37464bitandrewhicksvirtualenvb486e185a75b458ea1d520c1feb759ee",
   "display_name": "Python 3.7.4 64-bit ('Andrew Hicks': virtualenv)"
  }
 },
 "nbformat": 4,
 "nbformat_minor": 2
}