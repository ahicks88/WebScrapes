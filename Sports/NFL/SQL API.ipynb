{
 "cells": [
  {
   "cell_type": "code",
   "execution_count": null,
   "metadata": {},
   "outputs": [],
   "source": [
    "import cx_Oracle\n",
    "dsn_tns = cx_Oracle.makedsn('10.0.0.210', '1521', service_name='XE')\n",
    "conn = cx_Oracle.connect(user=r'ahicks88', password='<>', dsn=dsn_tns) \n",
    "c = conn.cursor()\n",
    "\n",
    "# Create table\n",
    "c.execute(\"CREATE TABLE Test2(EmployeeID VARCHAR(255))\")\n",
    "\n",
    "# Create a new record\n",
    "c.execute(\"INSERT INTO Test2 (EmployeeID) VALUES (108)\")\n",
    "\n",
    "conn.commit()"
   ]
  }
 ],
 "metadata": {
  "language_info": {
   "codemirror_mode": {
    "name": "ipython",
    "version": 3
   },
   "file_extension": ".py",
   "mimetype": "text/x-python",
   "name": "python",
   "nbconvert_exporter": "python",
   "pygments_lexer": "ipython3",
   "version": 3
  },
  "orig_nbformat": 2
 },
 "nbformat": 4,
 "nbformat_minor": 2
}