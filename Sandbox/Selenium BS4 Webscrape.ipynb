{
 "cells": [
  {
   "cell_type": "code",
   "execution_count": 15,
   "metadata": {},
   "outputs": [
    {
     "output_type": "stream",
     "name": "stdout",
     "text": "001\n002\n003\n004\n005\n"
    }
   ],
   "source": [
    "# YoutTube = \"https://youtu.be/zjo9yFHoUl8\"\n",
    "url = \"http://econpy.pythonanywhere.com/ex/001.html\"\n",
    "\n",
    "import csv\n",
    "from selenium import webdriver\n",
    "\n",
    "MAX_PAGE_NUM = 5\n",
    "MAX_PAGE_DIG = 3 # [001, 002, 003, 004 005]\n",
    "\n",
    "\n",
    "with open('results.csv', 'w') AS f:\n",
    "    f.write(\"Buyers, Price \\n\")\n",
    "\n",
    "for i in range (1, MAX_PAGE_NUM + 1):\n",
    "    page_num = (MAX_PAGE_DIG - len(str(i))) * \"0\" + str(i)\n",
    "    print(page_num)\n",
    "# Open uo a Chrome browser and navigate to web page.\n",
    "# options = webdriver.ChromeOptions()\n",
    "# options.add_argument('--ignore-certificate-errors')\n",
    "# options.add_argument('--incognito')\n",
    "# options.add_argument('--headless') # will run without opening browser.\n",
    "# driver = webdriver.Chrome(r\"C:\\Users\\Andrew Hicks\\Documents\\Analytics\\GitHub\\WebScrapes\\WebScrapes\\chromedriver\", chrome_options=options)\n",
    "# driver.get(url)\n",
    "\n",
    "# Extract lists of \"buyers\" and \"prices\" based on xpath\n",
    "# buyers = driver.find_elements_by_xpath('//div[@title=\"buyer-name\"]')\n",
    "# prices = driver.find_elements_by_xpath('//span[@class=\"item-price\"]')\n",
    "\n",
    "# Print out all of the buyers and prices on current page:\n",
    "# num_page_items = len(buyers)\n",
    "# for i in range(num_page_items):\n",
    "#     print(buyers[i].text + \" : \" + prices[i].text)\n",
    "\n",
    "# Clean up(close browser once task is completed.)\n",
    "# driver.close()\n"
   ]
  },
  {
   "cell_type": "code",
   "execution_count": null,
   "metadata": {},
   "outputs": [],
   "source": []
  }
 ],
 "metadata": {
  "language_info": {
   "codemirror_mode": {
    "name": "ipython",
    "version": 3
   },
   "file_extension": ".py",
   "mimetype": "text/x-python",
   "name": "python",
   "nbconvert_exporter": "python",
   "pygments_lexer": "ipython3",
   "version": "3.7.6-final"
  },
  "orig_nbformat": 2,
  "kernelspec": {
   "name": "python37464bitandrewhicksvirtualenvb486e185a75b458ea1d520c1feb759ee",
   "display_name": "Python 3.7.4 64-bit ('Andrew Hicks': virtualenv)"
  }
 },
 "nbformat": 4,
 "nbformat_minor": 2
}