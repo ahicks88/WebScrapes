{
 "cells": [
  {
   "cell_type": "code",
   "execution_count": 12,
   "metadata": {},
   "outputs": [
    {
     "output_type": "stream",
     "name": "stdout",
     "text": "Carson Busses : $29.95\nEarl E. Byrd : $8.37\nPatty Cakes : $15.26\nDerri Anne Connecticut : $19.25\nMoe Dess : $19.25\nLeda Doggslife : $13.99\nDan Druff : $31.57\nAl Fresco : $8.49\nIdo Hoe : $14.47\nHowie Kisses : $15.86\nLen Lease : $11.11\nPhil Meup : $15.98\nIra Pent : $16.27\nBen D. Rules : $7.50\nAve Sectomy : $50.85\nGary Shattire : $14.26\nBobbi Soks : $5.68\nSheila Takya : $15.00\nRose Tattoo : $114.07\nMoe Tell : $10.09\n"
    }
   ],
   "source": [
    "# YoutTube = \"https://youtu.be/zjo9yFHoUl8\"\n",
    "url = \"http://econpy.pythonanywhere.com/ex/001.html\"\n",
    "\n",
    "import csv\n",
    "from selenium import webdriver\n",
    "\n",
    "# Open uo a Chrome browser and navigate to web page.\n",
    "options = webdriver.ChromeOptions()\n",
    "options.add_argument('--ignore-certificate-errors')\n",
    "options.add_argument('--incognito')\n",
    "options.add_argument('--headless') # will run without opening browser.\n",
    "driver = webdriver.Chrome(r\"C:\\Users\\Andrew Hicks\\Documents\\Analytics\\GitHub\\WebScrapes\\WebScrapes\\chromedriver\", chrome_options=options)\n",
    "driver.get(url)\n",
    "\n",
    "# Extract lists of \"buyers\" and \"prices\" based on xpath\n",
    "buyers = driver.find_elements_by_xpath('//div[@title=\"buyer-name\"]')\n",
    "prices = driver.find_elements_by_xpath('//span[@class=\"item-price\"]')\n",
    "\n",
    "# Print out all of the buyers and prices on current page:\n",
    "num_page_items = len(buyers)\n",
    "for i in range(num_page_items):\n",
    "    print(buyers[i].text + \" : \" + prices[i].text)\n",
    "\n",
    "# Clean up(close browser once task is completed.)\n",
    "driver.close()\n"
   ]
  },
  {
   "cell_type": "code",
   "execution_count": null,
   "metadata": {},
   "outputs": [],
   "source": []
  }
 ],
 "metadata": {
  "language_info": {
   "codemirror_mode": {
    "name": "ipython",
    "version": 3
   },
   "file_extension": ".py",
   "mimetype": "text/x-python",
   "name": "python",
   "nbconvert_exporter": "python",
   "pygments_lexer": "ipython3",
   "version": "3.7.6-final"
  },
  "orig_nbformat": 2,
  "kernelspec": {
   "name": "python37464bitandrewhicksvirtualenvb486e185a75b458ea1d520c1feb759ee",
   "display_name": "Python 3.7.4 64-bit ('Andrew Hicks': virtualenv)"
  }
 },
 "nbformat": 4,
 "nbformat_minor": 2
}