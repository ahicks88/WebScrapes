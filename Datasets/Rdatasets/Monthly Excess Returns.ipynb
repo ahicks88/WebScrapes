{
 "cells": [
  {
   "cell_type": "code",
   "execution_count": null,
   "metadata": {},
   "outputs": [],
   "source": [
    "# Website: https://vincentarelbundock.github.io/Rdatasets/datasets.html"
   ]
  },
  {
   "cell_type": "code",
   "execution_count": 28,
   "metadata": {},
   "outputs": [],
   "source": [
    "import cx_Oracle\n",
    "pswd = input(\"Enter your password: \")\n",
    "dsn_tns = cx_Oracle.makedsn('DESKTOP-HI0V3QP', '1521', service_name='XE')\n",
    "conn = cx_Oracle.connect(user=r'Rdatasets', password=pswd, dsn=dsn_tns) \n",
    "c = conn.cursor()"
   ]
  },
  {
   "cell_type": "code",
   "execution_count": 29,
   "metadata": {},
   "outputs": [],
   "source": [
    "import pandas as pd\n",
    "\n",
    "url = 'https://vincentarelbundock.github.io/Rdatasets/csv/boot/acme.csv'\n",
    "df = pd.read_csv(url)"
   ]
  },
  {
   "cell_type": "code",
   "execution_count": 34,
   "metadata": {},
   "outputs": [],
   "source": [
    "def CreateTable():\n",
    "    TableName = (\"Monthly_Excess_Returns\")\n",
    "    c.execute(\"DROP TABLE {}\".format(TableName))\n",
    "    table_details = (\"ID NUMBER, Month VARCHAR2(20), Market NUMBER(7,5), Acme NUMBER(7,5)\")\n",
    "    table_input = \"{}({})\".format(TableName, table_details)\n",
    "    NewTable = c.execute(\"CREATE TABLE {}\".format(table_input))\n",
    "CreateTable()"
   ]
  },
  {
   "cell_type": "code",
   "execution_count": 35,
   "metadata": {},
   "outputs": [],
   "source": [
    "def InsertRecords():\n",
    "    TableName = (\"Monthly_Excess_Returns\")\n",
    "    FieldName = (\"ID, Month, Market, Acme\")\n",
    "    \n",
    "    n = len(df.index); x = 0;\n",
    "    for i in range(n):\n",
    "        Values = (\"'\" + \"' ,'\".join(list(str(x) for x in df.values[x])) + \"'\")\n",
    "        # Values = Values.replace('(','').replace(')','').replace('P','').replace('n','').replace('a','')\n",
    "        # test.append(Values)\n",
    "        x += 1\n",
    "    \n",
    "        c.execute(\"INSERT INTO {}({}) VALUES ({})\".format(TableName, FieldName, Values))\n",
    "        conn.commit()\n",
    "InsertRecords()"
   ]
  },
  {
   "cell_type": "code",
   "execution_count": 25,
   "metadata": {},
   "outputs": [
    {
     "output_type": "execute_result",
     "data": {
      "text/plain": "60"
     },
     "metadata": {},
     "execution_count": 25
    }
   ],
   "source": [
    " "
   ]
  }
 ],
 "metadata": {
  "language_info": {
   "codemirror_mode": {
    "name": "ipython",
    "version": 3
   },
   "file_extension": ".py",
   "mimetype": "text/x-python",
   "name": "python",
   "nbconvert_exporter": "python",
   "pygments_lexer": "ipython3",
   "version": "3.7.6-final"
  },
  "orig_nbformat": 2,
  "kernelspec": {
   "name": "python37464bitandrewhicksvirtualenvb486e185a75b458ea1d520c1feb759ee",
   "display_name": "Python 3.7.4 64-bit ('Andrew Hicks': virtualenv)"
  }
 },
 "nbformat": 4,
 "nbformat_minor": 2
}