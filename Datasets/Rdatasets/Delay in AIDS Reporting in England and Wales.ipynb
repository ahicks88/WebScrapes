{
 "cells": [
  {
   "cell_type": "code",
   "execution_count": null,
   "metadata": {},
   "outputs": [],
   "source": [
    "# Website: https://vincentarelbundock.github.io/Rdatasets/datasets.html"
   ]
  },
  {
   "cell_type": "code",
   "execution_count": 1,
   "metadata": {},
   "outputs": [],
   "source": [
    "import cx_Oracle\n",
    "pswd = input(\"Enter your password: \")\n",
    "dsn_tns = cx_Oracle.makedsn('DESKTOP-HI0V3QP', '1521', service_name='XE')\n",
    "conn = cx_Oracle.connect(user=r'Rdatasets', password=pswd, dsn=dsn_tns) \n",
    "c = conn.cursor()"
   ]
  },
  {
   "cell_type": "code",
   "execution_count": 2,
   "metadata": {},
   "outputs": [],
   "source": [
    "import pandas as pd\n",
    "\n",
    "url = 'https://vincentarelbundock.github.io/Rdatasets/csv/boot/aids.csv'\n",
    "df = pd.read_csv(url)"
   ]
  },
  {
   "cell_type": "code",
   "execution_count": 10,
   "metadata": {},
   "outputs": [],
   "source": [
    "def CreateTable():\n",
    "    TableName = (\"MDelay_in_AIDS_Reporting_in_England_and_Wales\")\n",
    "    c.execute(\"DROP TABLE {}\".format(TableName))\n",
    "    table_details = (\"ID NUMBER, Year NUMBER, Quarter NUMBER, Delay NUMBER, Dud NUMBER, Time NUMBER, Y NUMBER\")\n",
    "    table_input = \"{}({})\".format(TableName, table_details)\n",
    "    NewTable = c.execute(\"CREATE TABLE {}\".format(table_input))\n",
    "CreateTable()"
   ]
  },
  {
   "cell_type": "code",
   "execution_count": 11,
   "metadata": {},
   "outputs": [],
   "source": [
    "def InsertRecords():\n",
    "    TableName = (\"MDelay_in_AIDS_Reporting_in_England_and_Wales\")\n",
    "    FieldName = (\"ID, Year, Quarter, Delay, Dud, Time, Y\")\n",
    "    \n",
    "    n = len(df.index); x = 0;\n",
    "    for i in range(n):\n",
    "        Values = (\"'\" + \"' ,'\".join(list(str(x) for x in df.values[x])) + \"'\")\n",
    "        # Values = Values.replace('(','').replace(')','').replace('P','').replace('n','').replace('a','')\n",
    "        # test.append(Values)\n",
    "        x += 1\n",
    "    \n",
    "        c.execute(\"INSERT INTO {}({}) VALUES ({})\".format(TableName, FieldName, Values))\n",
    "        conn.commit()\n",
    "InsertRecords()"
   ]
  },
  {
   "cell_type": "code",
   "execution_count": 9,
   "metadata": {},
   "outputs": [
    {
     "output_type": "execute_result",
     "data": {
      "text/plain": "     Unnamed: 0  year  quarter  delay  dud  time  y\n0             1  1983        3      0    0     1  2\n1             2  1983        3      2    0     1  6\n2             3  1983        3      5    0     1  0\n3             4  1983        3      8    0     1  1\n4             5  1983        3     11    0     1  1\n..          ...   ...      ...    ...  ...   ... ..\n565         566  1992        4     29    1    38  0\n566         567  1992        4     32    1    38  0\n567         568  1992        4     35    1    38  0\n568         569  1992        4     38    1    38  0\n569         570  1992        4     41    1    38  0\n\n[570 rows x 7 columns]",
      "text/html": "<div>\n<style scoped>\n    .dataframe tbody tr th:only-of-type {\n        vertical-align: middle;\n    }\n\n    .dataframe tbody tr th {\n        vertical-align: top;\n    }\n\n    .dataframe thead th {\n        text-align: right;\n    }\n</style>\n<table border=\"1\" class=\"dataframe\">\n  <thead>\n    <tr style=\"text-align: right;\">\n      <th></th>\n      <th>Unnamed: 0</th>\n      <th>year</th>\n      <th>quarter</th>\n      <th>delay</th>\n      <th>dud</th>\n      <th>time</th>\n      <th>y</th>\n    </tr>\n  </thead>\n  <tbody>\n    <tr>\n      <th>0</th>\n      <td>1</td>\n      <td>1983</td>\n      <td>3</td>\n      <td>0</td>\n      <td>0</td>\n      <td>1</td>\n      <td>2</td>\n    </tr>\n    <tr>\n      <th>1</th>\n      <td>2</td>\n      <td>1983</td>\n      <td>3</td>\n      <td>2</td>\n      <td>0</td>\n      <td>1</td>\n      <td>6</td>\n    </tr>\n    <tr>\n      <th>2</th>\n      <td>3</td>\n      <td>1983</td>\n      <td>3</td>\n      <td>5</td>\n      <td>0</td>\n      <td>1</td>\n      <td>0</td>\n    </tr>\n    <tr>\n      <th>3</th>\n      <td>4</td>\n      <td>1983</td>\n      <td>3</td>\n      <td>8</td>\n      <td>0</td>\n      <td>1</td>\n      <td>1</td>\n    </tr>\n    <tr>\n      <th>4</th>\n      <td>5</td>\n      <td>1983</td>\n      <td>3</td>\n      <td>11</td>\n      <td>0</td>\n      <td>1</td>\n      <td>1</td>\n    </tr>\n    <tr>\n      <th>...</th>\n      <td>...</td>\n      <td>...</td>\n      <td>...</td>\n      <td>...</td>\n      <td>...</td>\n      <td>...</td>\n      <td>...</td>\n    </tr>\n    <tr>\n      <th>565</th>\n      <td>566</td>\n      <td>1992</td>\n      <td>4</td>\n      <td>29</td>\n      <td>1</td>\n      <td>38</td>\n      <td>0</td>\n    </tr>\n    <tr>\n      <th>566</th>\n      <td>567</td>\n      <td>1992</td>\n      <td>4</td>\n      <td>32</td>\n      <td>1</td>\n      <td>38</td>\n      <td>0</td>\n    </tr>\n    <tr>\n      <th>567</th>\n      <td>568</td>\n      <td>1992</td>\n      <td>4</td>\n      <td>35</td>\n      <td>1</td>\n      <td>38</td>\n      <td>0</td>\n    </tr>\n    <tr>\n      <th>568</th>\n      <td>569</td>\n      <td>1992</td>\n      <td>4</td>\n      <td>38</td>\n      <td>1</td>\n      <td>38</td>\n      <td>0</td>\n    </tr>\n    <tr>\n      <th>569</th>\n      <td>570</td>\n      <td>1992</td>\n      <td>4</td>\n      <td>41</td>\n      <td>1</td>\n      <td>38</td>\n      <td>0</td>\n    </tr>\n  </tbody>\n</table>\n<p>570 rows × 7 columns</p>\n</div>"
     },
     "metadata": {},
     "execution_count": 9
    }
   ],
   "source": [
    "df "
   ]
  }
 ],
 "metadata": {
  "language_info": {
   "codemirror_mode": {
    "name": "ipython",
    "version": 3
   },
   "file_extension": ".py",
   "mimetype": "text/x-python",
   "name": "python",
   "nbconvert_exporter": "python",
   "pygments_lexer": "ipython3",
   "version": "3.7.6-final"
  },
  "orig_nbformat": 2,
  "kernelspec": {
   "name": "python37464bitandrewhicksvirtualenvb486e185a75b458ea1d520c1feb759ee",
   "display_name": "Python 3.7.4 64-bit ('Andrew Hicks': virtualenv)"
  }
 },
 "nbformat": 4,
 "nbformat_minor": 2
}